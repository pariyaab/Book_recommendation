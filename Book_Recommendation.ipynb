{
  "nbformat": 4,
  "nbformat_minor": 0,
  "metadata": {
    "colab": {
      "provenance": [],
      "collapsed_sections": [],
      "mount_file_id": "196cmSsoG3ydER8srhut0Rc1YUgJ2Yxrf",
      "authorship_tag": "ABX9TyPTpI8doGiMmtKC77gVXbHY",
      "include_colab_link": true
    },
    "kernelspec": {
      "name": "python3",
      "display_name": "Python 3"
    },
    "language_info": {
      "name": "python"
    },
    "widgets": {
      "application/vnd.jupyter.widget-state+json": {
        "2930247ffe0547748fc9e269e51e0602": {
          "model_module": "@jupyter-widgets/controls",
          "model_name": "HBoxModel",
          "model_module_version": "1.5.0",
          "state": {
            "_dom_classes": [],
            "_model_module": "@jupyter-widgets/controls",
            "_model_module_version": "1.5.0",
            "_model_name": "HBoxModel",
            "_view_count": null,
            "_view_module": "@jupyter-widgets/controls",
            "_view_module_version": "1.5.0",
            "_view_name": "HBoxView",
            "box_style": "",
            "children": [
              "IPY_MODEL_603bf51870204d7d93496c9c56064a42",
              "IPY_MODEL_dcaa7a72b6e74ca599a751db474bcace",
              "IPY_MODEL_f11f55f1e03545cca78d8e827169544b"
            ],
            "layout": "IPY_MODEL_88419b930de5426c94aa3f71b38d98ed"
          }
        },
        "603bf51870204d7d93496c9c56064a42": {
          "model_module": "@jupyter-widgets/controls",
          "model_name": "HTMLModel",
          "model_module_version": "1.5.0",
          "state": {
            "_dom_classes": [],
            "_model_module": "@jupyter-widgets/controls",
            "_model_module_version": "1.5.0",
            "_model_name": "HTMLModel",
            "_view_count": null,
            "_view_module": "@jupyter-widgets/controls",
            "_view_module_version": "1.5.0",
            "_view_name": "HTMLView",
            "description": "",
            "description_tooltip": null,
            "layout": "IPY_MODEL_56b267366ccd449aa026dc4f751e4588",
            "placeholder": "​",
            "style": "IPY_MODEL_585855e48996423ea1294df4928fcb33",
            "value": "Dl Completed...: 100%"
          }
        },
        "dcaa7a72b6e74ca599a751db474bcace": {
          "model_module": "@jupyter-widgets/controls",
          "model_name": "FloatProgressModel",
          "model_module_version": "1.5.0",
          "state": {
            "_dom_classes": [],
            "_model_module": "@jupyter-widgets/controls",
            "_model_module_version": "1.5.0",
            "_model_name": "FloatProgressModel",
            "_view_count": null,
            "_view_module": "@jupyter-widgets/controls",
            "_view_module_version": "1.5.0",
            "_view_name": "ProgressView",
            "bar_style": "success",
            "description": "",
            "description_tooltip": null,
            "layout": "IPY_MODEL_7368090407fb4d9cbd650d49d73e8d01",
            "max": 1,
            "min": 0,
            "orientation": "horizontal",
            "style": "IPY_MODEL_96725560019244e091c33d25975f1d8f",
            "value": 1
          }
        },
        "f11f55f1e03545cca78d8e827169544b": {
          "model_module": "@jupyter-widgets/controls",
          "model_name": "HTMLModel",
          "model_module_version": "1.5.0",
          "state": {
            "_dom_classes": [],
            "_model_module": "@jupyter-widgets/controls",
            "_model_module_version": "1.5.0",
            "_model_name": "HTMLModel",
            "_view_count": null,
            "_view_module": "@jupyter-widgets/controls",
            "_view_module_version": "1.5.0",
            "_view_name": "HTMLView",
            "description": "",
            "description_tooltip": null,
            "layout": "IPY_MODEL_54ffdd52309b444ea4914f59fac84590",
            "placeholder": "​",
            "style": "IPY_MODEL_ce4c660a0a3a482bb5dfd20eaca3d233",
            "value": " 1/1 [01:15&lt;00:00, 25.89s/ url]"
          }
        },
        "88419b930de5426c94aa3f71b38d98ed": {
          "model_module": "@jupyter-widgets/base",
          "model_name": "LayoutModel",
          "model_module_version": "1.2.0",
          "state": {
            "_model_module": "@jupyter-widgets/base",
            "_model_module_version": "1.2.0",
            "_model_name": "LayoutModel",
            "_view_count": null,
            "_view_module": "@jupyter-widgets/base",
            "_view_module_version": "1.2.0",
            "_view_name": "LayoutView",
            "align_content": null,
            "align_items": null,
            "align_self": null,
            "border": null,
            "bottom": null,
            "display": null,
            "flex": null,
            "flex_flow": null,
            "grid_area": null,
            "grid_auto_columns": null,
            "grid_auto_flow": null,
            "grid_auto_rows": null,
            "grid_column": null,
            "grid_gap": null,
            "grid_row": null,
            "grid_template_areas": null,
            "grid_template_columns": null,
            "grid_template_rows": null,
            "height": null,
            "justify_content": null,
            "justify_items": null,
            "left": null,
            "margin": null,
            "max_height": null,
            "max_width": null,
            "min_height": null,
            "min_width": null,
            "object_fit": null,
            "object_position": null,
            "order": null,
            "overflow": null,
            "overflow_x": null,
            "overflow_y": null,
            "padding": null,
            "right": null,
            "top": null,
            "visibility": null,
            "width": null
          }
        },
        "56b267366ccd449aa026dc4f751e4588": {
          "model_module": "@jupyter-widgets/base",
          "model_name": "LayoutModel",
          "model_module_version": "1.2.0",
          "state": {
            "_model_module": "@jupyter-widgets/base",
            "_model_module_version": "1.2.0",
            "_model_name": "LayoutModel",
            "_view_count": null,
            "_view_module": "@jupyter-widgets/base",
            "_view_module_version": "1.2.0",
            "_view_name": "LayoutView",
            "align_content": null,
            "align_items": null,
            "align_self": null,
            "border": null,
            "bottom": null,
            "display": null,
            "flex": null,
            "flex_flow": null,
            "grid_area": null,
            "grid_auto_columns": null,
            "grid_auto_flow": null,
            "grid_auto_rows": null,
            "grid_column": null,
            "grid_gap": null,
            "grid_row": null,
            "grid_template_areas": null,
            "grid_template_columns": null,
            "grid_template_rows": null,
            "height": null,
            "justify_content": null,
            "justify_items": null,
            "left": null,
            "margin": null,
            "max_height": null,
            "max_width": null,
            "min_height": null,
            "min_width": null,
            "object_fit": null,
            "object_position": null,
            "order": null,
            "overflow": null,
            "overflow_x": null,
            "overflow_y": null,
            "padding": null,
            "right": null,
            "top": null,
            "visibility": null,
            "width": null
          }
        },
        "585855e48996423ea1294df4928fcb33": {
          "model_module": "@jupyter-widgets/controls",
          "model_name": "DescriptionStyleModel",
          "model_module_version": "1.5.0",
          "state": {
            "_model_module": "@jupyter-widgets/controls",
            "_model_module_version": "1.5.0",
            "_model_name": "DescriptionStyleModel",
            "_view_count": null,
            "_view_module": "@jupyter-widgets/base",
            "_view_module_version": "1.2.0",
            "_view_name": "StyleView",
            "description_width": ""
          }
        },
        "7368090407fb4d9cbd650d49d73e8d01": {
          "model_module": "@jupyter-widgets/base",
          "model_name": "LayoutModel",
          "model_module_version": "1.2.0",
          "state": {
            "_model_module": "@jupyter-widgets/base",
            "_model_module_version": "1.2.0",
            "_model_name": "LayoutModel",
            "_view_count": null,
            "_view_module": "@jupyter-widgets/base",
            "_view_module_version": "1.2.0",
            "_view_name": "LayoutView",
            "align_content": null,
            "align_items": null,
            "align_self": null,
            "border": null,
            "bottom": null,
            "display": null,
            "flex": null,
            "flex_flow": null,
            "grid_area": null,
            "grid_auto_columns": null,
            "grid_auto_flow": null,
            "grid_auto_rows": null,
            "grid_column": null,
            "grid_gap": null,
            "grid_row": null,
            "grid_template_areas": null,
            "grid_template_columns": null,
            "grid_template_rows": null,
            "height": null,
            "justify_content": null,
            "justify_items": null,
            "left": null,
            "margin": null,
            "max_height": null,
            "max_width": null,
            "min_height": null,
            "min_width": null,
            "object_fit": null,
            "object_position": null,
            "order": null,
            "overflow": null,
            "overflow_x": null,
            "overflow_y": null,
            "padding": null,
            "right": null,
            "top": null,
            "visibility": null,
            "width": "20px"
          }
        },
        "96725560019244e091c33d25975f1d8f": {
          "model_module": "@jupyter-widgets/controls",
          "model_name": "ProgressStyleModel",
          "model_module_version": "1.5.0",
          "state": {
            "_model_module": "@jupyter-widgets/controls",
            "_model_module_version": "1.5.0",
            "_model_name": "ProgressStyleModel",
            "_view_count": null,
            "_view_module": "@jupyter-widgets/base",
            "_view_module_version": "1.2.0",
            "_view_name": "StyleView",
            "bar_color": null,
            "description_width": ""
          }
        },
        "54ffdd52309b444ea4914f59fac84590": {
          "model_module": "@jupyter-widgets/base",
          "model_name": "LayoutModel",
          "model_module_version": "1.2.0",
          "state": {
            "_model_module": "@jupyter-widgets/base",
            "_model_module_version": "1.2.0",
            "_model_name": "LayoutModel",
            "_view_count": null,
            "_view_module": "@jupyter-widgets/base",
            "_view_module_version": "1.2.0",
            "_view_name": "LayoutView",
            "align_content": null,
            "align_items": null,
            "align_self": null,
            "border": null,
            "bottom": null,
            "display": null,
            "flex": null,
            "flex_flow": null,
            "grid_area": null,
            "grid_auto_columns": null,
            "grid_auto_flow": null,
            "grid_auto_rows": null,
            "grid_column": null,
            "grid_gap": null,
            "grid_row": null,
            "grid_template_areas": null,
            "grid_template_columns": null,
            "grid_template_rows": null,
            "height": null,
            "justify_content": null,
            "justify_items": null,
            "left": null,
            "margin": null,
            "max_height": null,
            "max_width": null,
            "min_height": null,
            "min_width": null,
            "object_fit": null,
            "object_position": null,
            "order": null,
            "overflow": null,
            "overflow_x": null,
            "overflow_y": null,
            "padding": null,
            "right": null,
            "top": null,
            "visibility": null,
            "width": null
          }
        },
        "ce4c660a0a3a482bb5dfd20eaca3d233": {
          "model_module": "@jupyter-widgets/controls",
          "model_name": "DescriptionStyleModel",
          "model_module_version": "1.5.0",
          "state": {
            "_model_module": "@jupyter-widgets/controls",
            "_model_module_version": "1.5.0",
            "_model_name": "DescriptionStyleModel",
            "_view_count": null,
            "_view_module": "@jupyter-widgets/base",
            "_view_module_version": "1.2.0",
            "_view_name": "StyleView",
            "description_width": ""
          }
        },
        "61813d6e252041818902f583b246b461": {
          "model_module": "@jupyter-widgets/controls",
          "model_name": "HBoxModel",
          "model_module_version": "1.5.0",
          "state": {
            "_dom_classes": [],
            "_model_module": "@jupyter-widgets/controls",
            "_model_module_version": "1.5.0",
            "_model_name": "HBoxModel",
            "_view_count": null,
            "_view_module": "@jupyter-widgets/controls",
            "_view_module_version": "1.5.0",
            "_view_name": "HBoxView",
            "box_style": "",
            "children": [
              "IPY_MODEL_7b90f10116f4447b962995af80fb6bee",
              "IPY_MODEL_571c7c3340184690a09de5bbddd9ebf9",
              "IPY_MODEL_8f8f23d882e6402d98354fcbdcac5d2b"
            ],
            "layout": "IPY_MODEL_2ae1c73a07284796abab494632cb9f13"
          }
        },
        "7b90f10116f4447b962995af80fb6bee": {
          "model_module": "@jupyter-widgets/controls",
          "model_name": "HTMLModel",
          "model_module_version": "1.5.0",
          "state": {
            "_dom_classes": [],
            "_model_module": "@jupyter-widgets/controls",
            "_model_module_version": "1.5.0",
            "_model_name": "HTMLModel",
            "_view_count": null,
            "_view_module": "@jupyter-widgets/controls",
            "_view_module_version": "1.5.0",
            "_view_name": "HTMLView",
            "description": "",
            "description_tooltip": null,
            "layout": "IPY_MODEL_240970c44c714bf4aab33afb19299c61",
            "placeholder": "​",
            "style": "IPY_MODEL_7ae9161014184c36924f223a37d76c88",
            "value": "Dl Size...: 100%"
          }
        },
        "571c7c3340184690a09de5bbddd9ebf9": {
          "model_module": "@jupyter-widgets/controls",
          "model_name": "FloatProgressModel",
          "model_module_version": "1.5.0",
          "state": {
            "_dom_classes": [],
            "_model_module": "@jupyter-widgets/controls",
            "_model_module_version": "1.5.0",
            "_model_name": "FloatProgressModel",
            "_view_count": null,
            "_view_module": "@jupyter-widgets/controls",
            "_view_module_version": "1.5.0",
            "_view_name": "ProgressView",
            "bar_style": "success",
            "description": "",
            "description_tooltip": null,
            "layout": "IPY_MODEL_a7eb3823ea364309becd592738d3bc0f",
            "max": 1,
            "min": 0,
            "orientation": "horizontal",
            "style": "IPY_MODEL_6415b7efbb8642618c882db72d96a2fd",
            "value": 1
          }
        },
        "8f8f23d882e6402d98354fcbdcac5d2b": {
          "model_module": "@jupyter-widgets/controls",
          "model_name": "HTMLModel",
          "model_module_version": "1.5.0",
          "state": {
            "_dom_classes": [],
            "_model_module": "@jupyter-widgets/controls",
            "_model_module_version": "1.5.0",
            "_model_name": "HTMLModel",
            "_view_count": null,
            "_view_module": "@jupyter-widgets/controls",
            "_view_module_version": "1.5.0",
            "_view_name": "HTMLView",
            "description": "",
            "description_tooltip": null,
            "layout": "IPY_MODEL_949d0e4f31db41d19b25a402bfbf7d45",
            "placeholder": "​",
            "style": "IPY_MODEL_1ee38abf72f64181a27e6d6da5fe6f0a",
            "value": " 1267/1267 [01:15&lt;00:00, 60.73 MiB/s]"
          }
        },
        "2ae1c73a07284796abab494632cb9f13": {
          "model_module": "@jupyter-widgets/base",
          "model_name": "LayoutModel",
          "model_module_version": "1.2.0",
          "state": {
            "_model_module": "@jupyter-widgets/base",
            "_model_module_version": "1.2.0",
            "_model_name": "LayoutModel",
            "_view_count": null,
            "_view_module": "@jupyter-widgets/base",
            "_view_module_version": "1.2.0",
            "_view_name": "LayoutView",
            "align_content": null,
            "align_items": null,
            "align_self": null,
            "border": null,
            "bottom": null,
            "display": null,
            "flex": null,
            "flex_flow": null,
            "grid_area": null,
            "grid_auto_columns": null,
            "grid_auto_flow": null,
            "grid_auto_rows": null,
            "grid_column": null,
            "grid_gap": null,
            "grid_row": null,
            "grid_template_areas": null,
            "grid_template_columns": null,
            "grid_template_rows": null,
            "height": null,
            "justify_content": null,
            "justify_items": null,
            "left": null,
            "margin": null,
            "max_height": null,
            "max_width": null,
            "min_height": null,
            "min_width": null,
            "object_fit": null,
            "object_position": null,
            "order": null,
            "overflow": null,
            "overflow_x": null,
            "overflow_y": null,
            "padding": null,
            "right": null,
            "top": null,
            "visibility": null,
            "width": null
          }
        },
        "240970c44c714bf4aab33afb19299c61": {
          "model_module": "@jupyter-widgets/base",
          "model_name": "LayoutModel",
          "model_module_version": "1.2.0",
          "state": {
            "_model_module": "@jupyter-widgets/base",
            "_model_module_version": "1.2.0",
            "_model_name": "LayoutModel",
            "_view_count": null,
            "_view_module": "@jupyter-widgets/base",
            "_view_module_version": "1.2.0",
            "_view_name": "LayoutView",
            "align_content": null,
            "align_items": null,
            "align_self": null,
            "border": null,
            "bottom": null,
            "display": null,
            "flex": null,
            "flex_flow": null,
            "grid_area": null,
            "grid_auto_columns": null,
            "grid_auto_flow": null,
            "grid_auto_rows": null,
            "grid_column": null,
            "grid_gap": null,
            "grid_row": null,
            "grid_template_areas": null,
            "grid_template_columns": null,
            "grid_template_rows": null,
            "height": null,
            "justify_content": null,
            "justify_items": null,
            "left": null,
            "margin": null,
            "max_height": null,
            "max_width": null,
            "min_height": null,
            "min_width": null,
            "object_fit": null,
            "object_position": null,
            "order": null,
            "overflow": null,
            "overflow_x": null,
            "overflow_y": null,
            "padding": null,
            "right": null,
            "top": null,
            "visibility": null,
            "width": null
          }
        },
        "7ae9161014184c36924f223a37d76c88": {
          "model_module": "@jupyter-widgets/controls",
          "model_name": "DescriptionStyleModel",
          "model_module_version": "1.5.0",
          "state": {
            "_model_module": "@jupyter-widgets/controls",
            "_model_module_version": "1.5.0",
            "_model_name": "DescriptionStyleModel",
            "_view_count": null,
            "_view_module": "@jupyter-widgets/base",
            "_view_module_version": "1.2.0",
            "_view_name": "StyleView",
            "description_width": ""
          }
        },
        "a7eb3823ea364309becd592738d3bc0f": {
          "model_module": "@jupyter-widgets/base",
          "model_name": "LayoutModel",
          "model_module_version": "1.2.0",
          "state": {
            "_model_module": "@jupyter-widgets/base",
            "_model_module_version": "1.2.0",
            "_model_name": "LayoutModel",
            "_view_count": null,
            "_view_module": "@jupyter-widgets/base",
            "_view_module_version": "1.2.0",
            "_view_name": "LayoutView",
            "align_content": null,
            "align_items": null,
            "align_self": null,
            "border": null,
            "bottom": null,
            "display": null,
            "flex": null,
            "flex_flow": null,
            "grid_area": null,
            "grid_auto_columns": null,
            "grid_auto_flow": null,
            "grid_auto_rows": null,
            "grid_column": null,
            "grid_gap": null,
            "grid_row": null,
            "grid_template_areas": null,
            "grid_template_columns": null,
            "grid_template_rows": null,
            "height": null,
            "justify_content": null,
            "justify_items": null,
            "left": null,
            "margin": null,
            "max_height": null,
            "max_width": null,
            "min_height": null,
            "min_width": null,
            "object_fit": null,
            "object_position": null,
            "order": null,
            "overflow": null,
            "overflow_x": null,
            "overflow_y": null,
            "padding": null,
            "right": null,
            "top": null,
            "visibility": null,
            "width": "20px"
          }
        },
        "6415b7efbb8642618c882db72d96a2fd": {
          "model_module": "@jupyter-widgets/controls",
          "model_name": "ProgressStyleModel",
          "model_module_version": "1.5.0",
          "state": {
            "_model_module": "@jupyter-widgets/controls",
            "_model_module_version": "1.5.0",
            "_model_name": "ProgressStyleModel",
            "_view_count": null,
            "_view_module": "@jupyter-widgets/base",
            "_view_module_version": "1.2.0",
            "_view_name": "StyleView",
            "bar_color": null,
            "description_width": ""
          }
        },
        "949d0e4f31db41d19b25a402bfbf7d45": {
          "model_module": "@jupyter-widgets/base",
          "model_name": "LayoutModel",
          "model_module_version": "1.2.0",
          "state": {
            "_model_module": "@jupyter-widgets/base",
            "_model_module_version": "1.2.0",
            "_model_name": "LayoutModel",
            "_view_count": null,
            "_view_module": "@jupyter-widgets/base",
            "_view_module_version": "1.2.0",
            "_view_name": "LayoutView",
            "align_content": null,
            "align_items": null,
            "align_self": null,
            "border": null,
            "bottom": null,
            "display": null,
            "flex": null,
            "flex_flow": null,
            "grid_area": null,
            "grid_auto_columns": null,
            "grid_auto_flow": null,
            "grid_auto_rows": null,
            "grid_column": null,
            "grid_gap": null,
            "grid_row": null,
            "grid_template_areas": null,
            "grid_template_columns": null,
            "grid_template_rows": null,
            "height": null,
            "justify_content": null,
            "justify_items": null,
            "left": null,
            "margin": null,
            "max_height": null,
            "max_width": null,
            "min_height": null,
            "min_width": null,
            "object_fit": null,
            "object_position": null,
            "order": null,
            "overflow": null,
            "overflow_x": null,
            "overflow_y": null,
            "padding": null,
            "right": null,
            "top": null,
            "visibility": null,
            "width": null
          }
        },
        "1ee38abf72f64181a27e6d6da5fe6f0a": {
          "model_module": "@jupyter-widgets/controls",
          "model_name": "DescriptionStyleModel",
          "model_module_version": "1.5.0",
          "state": {
            "_model_module": "@jupyter-widgets/controls",
            "_model_module_version": "1.5.0",
            "_model_name": "DescriptionStyleModel",
            "_view_count": null,
            "_view_module": "@jupyter-widgets/base",
            "_view_module_version": "1.2.0",
            "_view_name": "StyleView",
            "description_width": ""
          }
        },
        "903f2bb4305f4dccb35296089f8027b9": {
          "model_module": "@jupyter-widgets/controls",
          "model_name": "HBoxModel",
          "model_module_version": "1.5.0",
          "state": {
            "_dom_classes": [],
            "_model_module": "@jupyter-widgets/controls",
            "_model_module_version": "1.5.0",
            "_model_name": "HBoxModel",
            "_view_count": null,
            "_view_module": "@jupyter-widgets/controls",
            "_view_module_version": "1.5.0",
            "_view_name": "HBoxView",
            "box_style": "",
            "children": [
              "IPY_MODEL_6e331d6280254dfdba17a435fc566c08",
              "IPY_MODEL_0effffe0dd5a438392df212ac88329e0",
              "IPY_MODEL_d9d02035218042f58ad0ffd9f028ad48"
            ],
            "layout": "IPY_MODEL_81f0c847660d4545a9902286381cc346"
          }
        },
        "6e331d6280254dfdba17a435fc566c08": {
          "model_module": "@jupyter-widgets/controls",
          "model_name": "HTMLModel",
          "model_module_version": "1.5.0",
          "state": {
            "_dom_classes": [],
            "_model_module": "@jupyter-widgets/controls",
            "_model_module_version": "1.5.0",
            "_model_name": "HTMLModel",
            "_view_count": null,
            "_view_module": "@jupyter-widgets/controls",
            "_view_module_version": "1.5.0",
            "_view_name": "HTMLView",
            "description": "",
            "description_tooltip": null,
            "layout": "IPY_MODEL_a3b95bab7f2d45c881d928f27979798b",
            "placeholder": "​",
            "style": "IPY_MODEL_5f1b768d627d405fbd3e124337ce3953",
            "value": "Extraction completed...: 100%"
          }
        },
        "0effffe0dd5a438392df212ac88329e0": {
          "model_module": "@jupyter-widgets/controls",
          "model_name": "FloatProgressModel",
          "model_module_version": "1.5.0",
          "state": {
            "_dom_classes": [],
            "_model_module": "@jupyter-widgets/controls",
            "_model_module_version": "1.5.0",
            "_model_name": "FloatProgressModel",
            "_view_count": null,
            "_view_module": "@jupyter-widgets/controls",
            "_view_module_version": "1.5.0",
            "_view_name": "ProgressView",
            "bar_style": "success",
            "description": "",
            "description_tooltip": null,
            "layout": "IPY_MODEL_670fef94699e49ca82d17e7376792a9f",
            "max": 1,
            "min": 0,
            "orientation": "horizontal",
            "style": "IPY_MODEL_b383184123e74fa1bd9ef37f63e902ca",
            "value": 1
          }
        },
        "d9d02035218042f58ad0ffd9f028ad48": {
          "model_module": "@jupyter-widgets/controls",
          "model_name": "HTMLModel",
          "model_module_version": "1.5.0",
          "state": {
            "_dom_classes": [],
            "_model_module": "@jupyter-widgets/controls",
            "_model_module_version": "1.5.0",
            "_model_name": "HTMLModel",
            "_view_count": null,
            "_view_module": "@jupyter-widgets/controls",
            "_view_module_version": "1.5.0",
            "_view_name": "HTMLView",
            "description": "",
            "description_tooltip": null,
            "layout": "IPY_MODEL_d03801eeb7464952a651d5ee62f1ecc6",
            "placeholder": "​",
            "style": "IPY_MODEL_595e93de39c94b62855e6575f6c3bd51",
            "value": " 1/1 [01:15&lt;00:00, 75.37s/ file]"
          }
        },
        "81f0c847660d4545a9902286381cc346": {
          "model_module": "@jupyter-widgets/base",
          "model_name": "LayoutModel",
          "model_module_version": "1.2.0",
          "state": {
            "_model_module": "@jupyter-widgets/base",
            "_model_module_version": "1.2.0",
            "_model_name": "LayoutModel",
            "_view_count": null,
            "_view_module": "@jupyter-widgets/base",
            "_view_module_version": "1.2.0",
            "_view_name": "LayoutView",
            "align_content": null,
            "align_items": null,
            "align_self": null,
            "border": null,
            "bottom": null,
            "display": null,
            "flex": null,
            "flex_flow": null,
            "grid_area": null,
            "grid_auto_columns": null,
            "grid_auto_flow": null,
            "grid_auto_rows": null,
            "grid_column": null,
            "grid_gap": null,
            "grid_row": null,
            "grid_template_areas": null,
            "grid_template_columns": null,
            "grid_template_rows": null,
            "height": null,
            "justify_content": null,
            "justify_items": null,
            "left": null,
            "margin": null,
            "max_height": null,
            "max_width": null,
            "min_height": null,
            "min_width": null,
            "object_fit": null,
            "object_position": null,
            "order": null,
            "overflow": null,
            "overflow_x": null,
            "overflow_y": null,
            "padding": null,
            "right": null,
            "top": null,
            "visibility": null,
            "width": null
          }
        },
        "a3b95bab7f2d45c881d928f27979798b": {
          "model_module": "@jupyter-widgets/base",
          "model_name": "LayoutModel",
          "model_module_version": "1.2.0",
          "state": {
            "_model_module": "@jupyter-widgets/base",
            "_model_module_version": "1.2.0",
            "_model_name": "LayoutModel",
            "_view_count": null,
            "_view_module": "@jupyter-widgets/base",
            "_view_module_version": "1.2.0",
            "_view_name": "LayoutView",
            "align_content": null,
            "align_items": null,
            "align_self": null,
            "border": null,
            "bottom": null,
            "display": null,
            "flex": null,
            "flex_flow": null,
            "grid_area": null,
            "grid_auto_columns": null,
            "grid_auto_flow": null,
            "grid_auto_rows": null,
            "grid_column": null,
            "grid_gap": null,
            "grid_row": null,
            "grid_template_areas": null,
            "grid_template_columns": null,
            "grid_template_rows": null,
            "height": null,
            "justify_content": null,
            "justify_items": null,
            "left": null,
            "margin": null,
            "max_height": null,
            "max_width": null,
            "min_height": null,
            "min_width": null,
            "object_fit": null,
            "object_position": null,
            "order": null,
            "overflow": null,
            "overflow_x": null,
            "overflow_y": null,
            "padding": null,
            "right": null,
            "top": null,
            "visibility": null,
            "width": null
          }
        },
        "5f1b768d627d405fbd3e124337ce3953": {
          "model_module": "@jupyter-widgets/controls",
          "model_name": "DescriptionStyleModel",
          "model_module_version": "1.5.0",
          "state": {
            "_model_module": "@jupyter-widgets/controls",
            "_model_module_version": "1.5.0",
            "_model_name": "DescriptionStyleModel",
            "_view_count": null,
            "_view_module": "@jupyter-widgets/base",
            "_view_module_version": "1.2.0",
            "_view_name": "StyleView",
            "description_width": ""
          }
        },
        "670fef94699e49ca82d17e7376792a9f": {
          "model_module": "@jupyter-widgets/base",
          "model_name": "LayoutModel",
          "model_module_version": "1.2.0",
          "state": {
            "_model_module": "@jupyter-widgets/base",
            "_model_module_version": "1.2.0",
            "_model_name": "LayoutModel",
            "_view_count": null,
            "_view_module": "@jupyter-widgets/base",
            "_view_module_version": "1.2.0",
            "_view_name": "LayoutView",
            "align_content": null,
            "align_items": null,
            "align_self": null,
            "border": null,
            "bottom": null,
            "display": null,
            "flex": null,
            "flex_flow": null,
            "grid_area": null,
            "grid_auto_columns": null,
            "grid_auto_flow": null,
            "grid_auto_rows": null,
            "grid_column": null,
            "grid_gap": null,
            "grid_row": null,
            "grid_template_areas": null,
            "grid_template_columns": null,
            "grid_template_rows": null,
            "height": null,
            "justify_content": null,
            "justify_items": null,
            "left": null,
            "margin": null,
            "max_height": null,
            "max_width": null,
            "min_height": null,
            "min_width": null,
            "object_fit": null,
            "object_position": null,
            "order": null,
            "overflow": null,
            "overflow_x": null,
            "overflow_y": null,
            "padding": null,
            "right": null,
            "top": null,
            "visibility": null,
            "width": "20px"
          }
        },
        "b383184123e74fa1bd9ef37f63e902ca": {
          "model_module": "@jupyter-widgets/controls",
          "model_name": "ProgressStyleModel",
          "model_module_version": "1.5.0",
          "state": {
            "_model_module": "@jupyter-widgets/controls",
            "_model_module_version": "1.5.0",
            "_model_name": "ProgressStyleModel",
            "_view_count": null,
            "_view_module": "@jupyter-widgets/base",
            "_view_module_version": "1.2.0",
            "_view_name": "StyleView",
            "bar_color": null,
            "description_width": ""
          }
        },
        "d03801eeb7464952a651d5ee62f1ecc6": {
          "model_module": "@jupyter-widgets/base",
          "model_name": "LayoutModel",
          "model_module_version": "1.2.0",
          "state": {
            "_model_module": "@jupyter-widgets/base",
            "_model_module_version": "1.2.0",
            "_model_name": "LayoutModel",
            "_view_count": null,
            "_view_module": "@jupyter-widgets/base",
            "_view_module_version": "1.2.0",
            "_view_name": "LayoutView",
            "align_content": null,
            "align_items": null,
            "align_self": null,
            "border": null,
            "bottom": null,
            "display": null,
            "flex": null,
            "flex_flow": null,
            "grid_area": null,
            "grid_auto_columns": null,
            "grid_auto_flow": null,
            "grid_auto_rows": null,
            "grid_column": null,
            "grid_gap": null,
            "grid_row": null,
            "grid_template_areas": null,
            "grid_template_columns": null,
            "grid_template_rows": null,
            "height": null,
            "justify_content": null,
            "justify_items": null,
            "left": null,
            "margin": null,
            "max_height": null,
            "max_width": null,
            "min_height": null,
            "min_width": null,
            "object_fit": null,
            "object_position": null,
            "order": null,
            "overflow": null,
            "overflow_x": null,
            "overflow_y": null,
            "padding": null,
            "right": null,
            "top": null,
            "visibility": null,
            "width": null
          }
        },
        "595e93de39c94b62855e6575f6c3bd51": {
          "model_module": "@jupyter-widgets/controls",
          "model_name": "DescriptionStyleModel",
          "model_module_version": "1.5.0",
          "state": {
            "_model_module": "@jupyter-widgets/controls",
            "_model_module_version": "1.5.0",
            "_model_name": "DescriptionStyleModel",
            "_view_count": null,
            "_view_module": "@jupyter-widgets/base",
            "_view_module_version": "1.2.0",
            "_view_name": "StyleView",
            "description_width": ""
          }
        },
        "e2ad6a0a44b242f197e7423483d69244": {
          "model_module": "@jupyter-widgets/controls",
          "model_name": "HBoxModel",
          "model_module_version": "1.5.0",
          "state": {
            "_dom_classes": [],
            "_model_module": "@jupyter-widgets/controls",
            "_model_module_version": "1.5.0",
            "_model_name": "HBoxModel",
            "_view_count": null,
            "_view_module": "@jupyter-widgets/controls",
            "_view_module_version": "1.5.0",
            "_view_name": "HBoxView",
            "box_style": "",
            "children": [
              "IPY_MODEL_3acdaa223a0849269a6316de6a1cfba1",
              "IPY_MODEL_b91125c6d927403aab84a14f3456cee3",
              "IPY_MODEL_747f5042b8bf417f92224c19e90afba3"
            ],
            "layout": "IPY_MODEL_93c82e5725424359a938d35eec1458d2"
          }
        },
        "3acdaa223a0849269a6316de6a1cfba1": {
          "model_module": "@jupyter-widgets/controls",
          "model_name": "HTMLModel",
          "model_module_version": "1.5.0",
          "state": {
            "_dom_classes": [],
            "_model_module": "@jupyter-widgets/controls",
            "_model_module_version": "1.5.0",
            "_model_name": "HTMLModel",
            "_view_count": null,
            "_view_module": "@jupyter-widgets/controls",
            "_view_module_version": "1.5.0",
            "_view_name": "HTMLView",
            "description": "",
            "description_tooltip": null,
            "layout": "IPY_MODEL_6057f3a74da9472b9399ab2cd2e81093",
            "placeholder": "​",
            "style": "IPY_MODEL_03f2c3cca8fd4ec7a1edda8083df0434",
            "value": "Generating splits...: 100%"
          }
        },
        "b91125c6d927403aab84a14f3456cee3": {
          "model_module": "@jupyter-widgets/controls",
          "model_name": "FloatProgressModel",
          "model_module_version": "1.5.0",
          "state": {
            "_dom_classes": [],
            "_model_module": "@jupyter-widgets/controls",
            "_model_module_version": "1.5.0",
            "_model_name": "FloatProgressModel",
            "_view_count": null,
            "_view_module": "@jupyter-widgets/controls",
            "_view_module_version": "1.5.0",
            "_view_name": "ProgressView",
            "bar_style": "",
            "description": "",
            "description_tooltip": null,
            "layout": "IPY_MODEL_5e0e40bf7be84468bf2731ac3ea88c98",
            "max": 1,
            "min": 0,
            "orientation": "horizontal",
            "style": "IPY_MODEL_e49e6bc4cb604aa79f1bd6b25af59fd0",
            "value": 1
          }
        },
        "747f5042b8bf417f92224c19e90afba3": {
          "model_module": "@jupyter-widgets/controls",
          "model_name": "HTMLModel",
          "model_module_version": "1.5.0",
          "state": {
            "_dom_classes": [],
            "_model_module": "@jupyter-widgets/controls",
            "_model_module_version": "1.5.0",
            "_model_name": "HTMLModel",
            "_view_count": null,
            "_view_module": "@jupyter-widgets/controls",
            "_view_module_version": "1.5.0",
            "_view_name": "HTMLView",
            "description": "",
            "description_tooltip": null,
            "layout": "IPY_MODEL_1a9269d9f2304b11b20f30158537650f",
            "placeholder": "​",
            "style": "IPY_MODEL_7bcda9a11f0a4111ab6281f74b9a1630",
            "value": " 1/1 [31:18&lt;00:00, 1878.16s/ splits]"
          }
        },
        "93c82e5725424359a938d35eec1458d2": {
          "model_module": "@jupyter-widgets/base",
          "model_name": "LayoutModel",
          "model_module_version": "1.2.0",
          "state": {
            "_model_module": "@jupyter-widgets/base",
            "_model_module_version": "1.2.0",
            "_model_name": "LayoutModel",
            "_view_count": null,
            "_view_module": "@jupyter-widgets/base",
            "_view_module_version": "1.2.0",
            "_view_name": "LayoutView",
            "align_content": null,
            "align_items": null,
            "align_self": null,
            "border": null,
            "bottom": null,
            "display": null,
            "flex": null,
            "flex_flow": null,
            "grid_area": null,
            "grid_auto_columns": null,
            "grid_auto_flow": null,
            "grid_auto_rows": null,
            "grid_column": null,
            "grid_gap": null,
            "grid_row": null,
            "grid_template_areas": null,
            "grid_template_columns": null,
            "grid_template_rows": null,
            "height": null,
            "justify_content": null,
            "justify_items": null,
            "left": null,
            "margin": null,
            "max_height": null,
            "max_width": null,
            "min_height": null,
            "min_width": null,
            "object_fit": null,
            "object_position": null,
            "order": null,
            "overflow": null,
            "overflow_x": null,
            "overflow_y": null,
            "padding": null,
            "right": null,
            "top": null,
            "visibility": "hidden",
            "width": null
          }
        },
        "6057f3a74da9472b9399ab2cd2e81093": {
          "model_module": "@jupyter-widgets/base",
          "model_name": "LayoutModel",
          "model_module_version": "1.2.0",
          "state": {
            "_model_module": "@jupyter-widgets/base",
            "_model_module_version": "1.2.0",
            "_model_name": "LayoutModel",
            "_view_count": null,
            "_view_module": "@jupyter-widgets/base",
            "_view_module_version": "1.2.0",
            "_view_name": "LayoutView",
            "align_content": null,
            "align_items": null,
            "align_self": null,
            "border": null,
            "bottom": null,
            "display": null,
            "flex": null,
            "flex_flow": null,
            "grid_area": null,
            "grid_auto_columns": null,
            "grid_auto_flow": null,
            "grid_auto_rows": null,
            "grid_column": null,
            "grid_gap": null,
            "grid_row": null,
            "grid_template_areas": null,
            "grid_template_columns": null,
            "grid_template_rows": null,
            "height": null,
            "justify_content": null,
            "justify_items": null,
            "left": null,
            "margin": null,
            "max_height": null,
            "max_width": null,
            "min_height": null,
            "min_width": null,
            "object_fit": null,
            "object_position": null,
            "order": null,
            "overflow": null,
            "overflow_x": null,
            "overflow_y": null,
            "padding": null,
            "right": null,
            "top": null,
            "visibility": null,
            "width": null
          }
        },
        "03f2c3cca8fd4ec7a1edda8083df0434": {
          "model_module": "@jupyter-widgets/controls",
          "model_name": "DescriptionStyleModel",
          "model_module_version": "1.5.0",
          "state": {
            "_model_module": "@jupyter-widgets/controls",
            "_model_module_version": "1.5.0",
            "_model_name": "DescriptionStyleModel",
            "_view_count": null,
            "_view_module": "@jupyter-widgets/base",
            "_view_module_version": "1.2.0",
            "_view_name": "StyleView",
            "description_width": ""
          }
        },
        "5e0e40bf7be84468bf2731ac3ea88c98": {
          "model_module": "@jupyter-widgets/base",
          "model_name": "LayoutModel",
          "model_module_version": "1.2.0",
          "state": {
            "_model_module": "@jupyter-widgets/base",
            "_model_module_version": "1.2.0",
            "_model_name": "LayoutModel",
            "_view_count": null,
            "_view_module": "@jupyter-widgets/base",
            "_view_module_version": "1.2.0",
            "_view_name": "LayoutView",
            "align_content": null,
            "align_items": null,
            "align_self": null,
            "border": null,
            "bottom": null,
            "display": null,
            "flex": null,
            "flex_flow": null,
            "grid_area": null,
            "grid_auto_columns": null,
            "grid_auto_flow": null,
            "grid_auto_rows": null,
            "grid_column": null,
            "grid_gap": null,
            "grid_row": null,
            "grid_template_areas": null,
            "grid_template_columns": null,
            "grid_template_rows": null,
            "height": null,
            "justify_content": null,
            "justify_items": null,
            "left": null,
            "margin": null,
            "max_height": null,
            "max_width": null,
            "min_height": null,
            "min_width": null,
            "object_fit": null,
            "object_position": null,
            "order": null,
            "overflow": null,
            "overflow_x": null,
            "overflow_y": null,
            "padding": null,
            "right": null,
            "top": null,
            "visibility": null,
            "width": null
          }
        },
        "e49e6bc4cb604aa79f1bd6b25af59fd0": {
          "model_module": "@jupyter-widgets/controls",
          "model_name": "ProgressStyleModel",
          "model_module_version": "1.5.0",
          "state": {
            "_model_module": "@jupyter-widgets/controls",
            "_model_module_version": "1.5.0",
            "_model_name": "ProgressStyleModel",
            "_view_count": null,
            "_view_module": "@jupyter-widgets/base",
            "_view_module_version": "1.2.0",
            "_view_name": "StyleView",
            "bar_color": null,
            "description_width": ""
          }
        },
        "1a9269d9f2304b11b20f30158537650f": {
          "model_module": "@jupyter-widgets/base",
          "model_name": "LayoutModel",
          "model_module_version": "1.2.0",
          "state": {
            "_model_module": "@jupyter-widgets/base",
            "_model_module_version": "1.2.0",
            "_model_name": "LayoutModel",
            "_view_count": null,
            "_view_module": "@jupyter-widgets/base",
            "_view_module_version": "1.2.0",
            "_view_name": "LayoutView",
            "align_content": null,
            "align_items": null,
            "align_self": null,
            "border": null,
            "bottom": null,
            "display": null,
            "flex": null,
            "flex_flow": null,
            "grid_area": null,
            "grid_auto_columns": null,
            "grid_auto_flow": null,
            "grid_auto_rows": null,
            "grid_column": null,
            "grid_gap": null,
            "grid_row": null,
            "grid_template_areas": null,
            "grid_template_columns": null,
            "grid_template_rows": null,
            "height": null,
            "justify_content": null,
            "justify_items": null,
            "left": null,
            "margin": null,
            "max_height": null,
            "max_width": null,
            "min_height": null,
            "min_width": null,
            "object_fit": null,
            "object_position": null,
            "order": null,
            "overflow": null,
            "overflow_x": null,
            "overflow_y": null,
            "padding": null,
            "right": null,
            "top": null,
            "visibility": null,
            "width": null
          }
        },
        "7bcda9a11f0a4111ab6281f74b9a1630": {
          "model_module": "@jupyter-widgets/controls",
          "model_name": "DescriptionStyleModel",
          "model_module_version": "1.5.0",
          "state": {
            "_model_module": "@jupyter-widgets/controls",
            "_model_module_version": "1.5.0",
            "_model_name": "DescriptionStyleModel",
            "_view_count": null,
            "_view_module": "@jupyter-widgets/base",
            "_view_module_version": "1.2.0",
            "_view_name": "StyleView",
            "description_width": ""
          }
        },
        "6417853bf6cc4e4085abe267c067a0d4": {
          "model_module": "@jupyter-widgets/controls",
          "model_name": "HBoxModel",
          "model_module_version": "1.5.0",
          "state": {
            "_dom_classes": [],
            "_model_module": "@jupyter-widgets/controls",
            "_model_module_version": "1.5.0",
            "_model_name": "HBoxModel",
            "_view_count": null,
            "_view_module": "@jupyter-widgets/controls",
            "_view_module_version": "1.5.0",
            "_view_name": "HBoxView",
            "box_style": "",
            "children": [
              "IPY_MODEL_a3acd02cdb474703b3e0ffbd9a3ff8cd",
              "IPY_MODEL_cb231eb4654e45b1b7e1eb1cafbdd5a8",
              "IPY_MODEL_b6819a4067c8475aa3b00b8c22f93ba1"
            ],
            "layout": "IPY_MODEL_88c21b8ea7e343959fa159c33e134940"
          }
        },
        "a3acd02cdb474703b3e0ffbd9a3ff8cd": {
          "model_module": "@jupyter-widgets/controls",
          "model_name": "HTMLModel",
          "model_module_version": "1.5.0",
          "state": {
            "_dom_classes": [],
            "_model_module": "@jupyter-widgets/controls",
            "_model_module_version": "1.5.0",
            "_model_name": "HTMLModel",
            "_view_count": null,
            "_view_module": "@jupyter-widgets/controls",
            "_view_module_version": "1.5.0",
            "_view_name": "HTMLView",
            "description": "",
            "description_tooltip": null,
            "layout": "IPY_MODEL_b77fcbebde61447490b1ae41baa4eb6e",
            "placeholder": "​",
            "style": "IPY_MODEL_7868fe17c3484b56a3ccc4a297b0c0e4",
            "value": "Generating train examples...: 100%"
          }
        },
        "cb231eb4654e45b1b7e1eb1cafbdd5a8": {
          "model_module": "@jupyter-widgets/controls",
          "model_name": "FloatProgressModel",
          "model_module_version": "1.5.0",
          "state": {
            "_dom_classes": [],
            "_model_module": "@jupyter-widgets/controls",
            "_model_module_version": "1.5.0",
            "_model_name": "FloatProgressModel",
            "_view_count": null,
            "_view_module": "@jupyter-widgets/controls",
            "_view_module_version": "1.5.0",
            "_view_name": "ProgressView",
            "bar_style": "",
            "description": "",
            "description_tooltip": null,
            "layout": "IPY_MODEL_8a93c352f346403181ba249a325ee6ba",
            "max": 3105520,
            "min": 0,
            "orientation": "horizontal",
            "style": "IPY_MODEL_548c2455cb96408f9bef462f635304e1",
            "value": 3105520
          }
        },
        "b6819a4067c8475aa3b00b8c22f93ba1": {
          "model_module": "@jupyter-widgets/controls",
          "model_name": "HTMLModel",
          "model_module_version": "1.5.0",
          "state": {
            "_dom_classes": [],
            "_model_module": "@jupyter-widgets/controls",
            "_model_module_version": "1.5.0",
            "_model_name": "HTMLModel",
            "_view_count": null,
            "_view_module": "@jupyter-widgets/controls",
            "_view_module_version": "1.5.0",
            "_view_name": "HTMLView",
            "description": "",
            "description_tooltip": null,
            "layout": "IPY_MODEL_23380dd95c064817892b215830a1901c",
            "placeholder": "​",
            "style": "IPY_MODEL_0a27865f4e9844cfb53a07fdbe0a183f",
            "value": " 3105463/3105520 [30:03&lt;00:00, 1759.68 examples/s]"
          }
        },
        "88c21b8ea7e343959fa159c33e134940": {
          "model_module": "@jupyter-widgets/base",
          "model_name": "LayoutModel",
          "model_module_version": "1.2.0",
          "state": {
            "_model_module": "@jupyter-widgets/base",
            "_model_module_version": "1.2.0",
            "_model_name": "LayoutModel",
            "_view_count": null,
            "_view_module": "@jupyter-widgets/base",
            "_view_module_version": "1.2.0",
            "_view_name": "LayoutView",
            "align_content": null,
            "align_items": null,
            "align_self": null,
            "border": null,
            "bottom": null,
            "display": null,
            "flex": null,
            "flex_flow": null,
            "grid_area": null,
            "grid_auto_columns": null,
            "grid_auto_flow": null,
            "grid_auto_rows": null,
            "grid_column": null,
            "grid_gap": null,
            "grid_row": null,
            "grid_template_areas": null,
            "grid_template_columns": null,
            "grid_template_rows": null,
            "height": null,
            "justify_content": null,
            "justify_items": null,
            "left": null,
            "margin": null,
            "max_height": null,
            "max_width": null,
            "min_height": null,
            "min_width": null,
            "object_fit": null,
            "object_position": null,
            "order": null,
            "overflow": null,
            "overflow_x": null,
            "overflow_y": null,
            "padding": null,
            "right": null,
            "top": null,
            "visibility": "hidden",
            "width": null
          }
        },
        "b77fcbebde61447490b1ae41baa4eb6e": {
          "model_module": "@jupyter-widgets/base",
          "model_name": "LayoutModel",
          "model_module_version": "1.2.0",
          "state": {
            "_model_module": "@jupyter-widgets/base",
            "_model_module_version": "1.2.0",
            "_model_name": "LayoutModel",
            "_view_count": null,
            "_view_module": "@jupyter-widgets/base",
            "_view_module_version": "1.2.0",
            "_view_name": "LayoutView",
            "align_content": null,
            "align_items": null,
            "align_self": null,
            "border": null,
            "bottom": null,
            "display": null,
            "flex": null,
            "flex_flow": null,
            "grid_area": null,
            "grid_auto_columns": null,
            "grid_auto_flow": null,
            "grid_auto_rows": null,
            "grid_column": null,
            "grid_gap": null,
            "grid_row": null,
            "grid_template_areas": null,
            "grid_template_columns": null,
            "grid_template_rows": null,
            "height": null,
            "justify_content": null,
            "justify_items": null,
            "left": null,
            "margin": null,
            "max_height": null,
            "max_width": null,
            "min_height": null,
            "min_width": null,
            "object_fit": null,
            "object_position": null,
            "order": null,
            "overflow": null,
            "overflow_x": null,
            "overflow_y": null,
            "padding": null,
            "right": null,
            "top": null,
            "visibility": null,
            "width": null
          }
        },
        "7868fe17c3484b56a3ccc4a297b0c0e4": {
          "model_module": "@jupyter-widgets/controls",
          "model_name": "DescriptionStyleModel",
          "model_module_version": "1.5.0",
          "state": {
            "_model_module": "@jupyter-widgets/controls",
            "_model_module_version": "1.5.0",
            "_model_name": "DescriptionStyleModel",
            "_view_count": null,
            "_view_module": "@jupyter-widgets/base",
            "_view_module_version": "1.2.0",
            "_view_name": "StyleView",
            "description_width": ""
          }
        },
        "8a93c352f346403181ba249a325ee6ba": {
          "model_module": "@jupyter-widgets/base",
          "model_name": "LayoutModel",
          "model_module_version": "1.2.0",
          "state": {
            "_model_module": "@jupyter-widgets/base",
            "_model_module_version": "1.2.0",
            "_model_name": "LayoutModel",
            "_view_count": null,
            "_view_module": "@jupyter-widgets/base",
            "_view_module_version": "1.2.0",
            "_view_name": "LayoutView",
            "align_content": null,
            "align_items": null,
            "align_self": null,
            "border": null,
            "bottom": null,
            "display": null,
            "flex": null,
            "flex_flow": null,
            "grid_area": null,
            "grid_auto_columns": null,
            "grid_auto_flow": null,
            "grid_auto_rows": null,
            "grid_column": null,
            "grid_gap": null,
            "grid_row": null,
            "grid_template_areas": null,
            "grid_template_columns": null,
            "grid_template_rows": null,
            "height": null,
            "justify_content": null,
            "justify_items": null,
            "left": null,
            "margin": null,
            "max_height": null,
            "max_width": null,
            "min_height": null,
            "min_width": null,
            "object_fit": null,
            "object_position": null,
            "order": null,
            "overflow": null,
            "overflow_x": null,
            "overflow_y": null,
            "padding": null,
            "right": null,
            "top": null,
            "visibility": null,
            "width": null
          }
        },
        "548c2455cb96408f9bef462f635304e1": {
          "model_module": "@jupyter-widgets/controls",
          "model_name": "ProgressStyleModel",
          "model_module_version": "1.5.0",
          "state": {
            "_model_module": "@jupyter-widgets/controls",
            "_model_module_version": "1.5.0",
            "_model_name": "ProgressStyleModel",
            "_view_count": null,
            "_view_module": "@jupyter-widgets/base",
            "_view_module_version": "1.2.0",
            "_view_name": "StyleView",
            "bar_color": null,
            "description_width": ""
          }
        },
        "23380dd95c064817892b215830a1901c": {
          "model_module": "@jupyter-widgets/base",
          "model_name": "LayoutModel",
          "model_module_version": "1.2.0",
          "state": {
            "_model_module": "@jupyter-widgets/base",
            "_model_module_version": "1.2.0",
            "_model_name": "LayoutModel",
            "_view_count": null,
            "_view_module": "@jupyter-widgets/base",
            "_view_module_version": "1.2.0",
            "_view_name": "LayoutView",
            "align_content": null,
            "align_items": null,
            "align_self": null,
            "border": null,
            "bottom": null,
            "display": null,
            "flex": null,
            "flex_flow": null,
            "grid_area": null,
            "grid_auto_columns": null,
            "grid_auto_flow": null,
            "grid_auto_rows": null,
            "grid_column": null,
            "grid_gap": null,
            "grid_row": null,
            "grid_template_areas": null,
            "grid_template_columns": null,
            "grid_template_rows": null,
            "height": null,
            "justify_content": null,
            "justify_items": null,
            "left": null,
            "margin": null,
            "max_height": null,
            "max_width": null,
            "min_height": null,
            "min_width": null,
            "object_fit": null,
            "object_position": null,
            "order": null,
            "overflow": null,
            "overflow_x": null,
            "overflow_y": null,
            "padding": null,
            "right": null,
            "top": null,
            "visibility": null,
            "width": null
          }
        },
        "0a27865f4e9844cfb53a07fdbe0a183f": {
          "model_module": "@jupyter-widgets/controls",
          "model_name": "DescriptionStyleModel",
          "model_module_version": "1.5.0",
          "state": {
            "_model_module": "@jupyter-widgets/controls",
            "_model_module_version": "1.5.0",
            "_model_name": "DescriptionStyleModel",
            "_view_count": null,
            "_view_module": "@jupyter-widgets/base",
            "_view_module_version": "1.2.0",
            "_view_name": "StyleView",
            "description_width": ""
          }
        },
        "cce5d3cde3984b96a7da1ed9984298e6": {
          "model_module": "@jupyter-widgets/controls",
          "model_name": "HBoxModel",
          "model_module_version": "1.5.0",
          "state": {
            "_dom_classes": [],
            "_model_module": "@jupyter-widgets/controls",
            "_model_module_version": "1.5.0",
            "_model_name": "HBoxModel",
            "_view_count": null,
            "_view_module": "@jupyter-widgets/controls",
            "_view_module_version": "1.5.0",
            "_view_name": "HBoxView",
            "box_style": "",
            "children": [
              "IPY_MODEL_ff6c675748bb42bb9b4bb5089fac1d8a",
              "IPY_MODEL_0b0171569bca4acbbc3353cf68b6da97",
              "IPY_MODEL_af3a0838a5dd4435917d5866a9f40df8"
            ],
            "layout": "IPY_MODEL_c26b11b57a274581a242dcec98880416"
          }
        },
        "ff6c675748bb42bb9b4bb5089fac1d8a": {
          "model_module": "@jupyter-widgets/controls",
          "model_name": "HTMLModel",
          "model_module_version": "1.5.0",
          "state": {
            "_dom_classes": [],
            "_model_module": "@jupyter-widgets/controls",
            "_model_module_version": "1.5.0",
            "_model_name": "HTMLModel",
            "_view_count": null,
            "_view_module": "@jupyter-widgets/controls",
            "_view_module_version": "1.5.0",
            "_view_name": "HTMLView",
            "description": "",
            "description_tooltip": null,
            "layout": "IPY_MODEL_8b1cf0c992ab4fe29c828bb69fce5eeb",
            "placeholder": "​",
            "style": "IPY_MODEL_3ad95f0c1d964f7bb6ecde859f40be00",
            "value": "Shuffling /root/tensorflow_datasets/amazon_us_reviews/Books_v1_02/0.1.0.incompleteAFJYVV/amazon_us_reviews-train.tfrecord*...: 100%"
          }
        },
        "0b0171569bca4acbbc3353cf68b6da97": {
          "model_module": "@jupyter-widgets/controls",
          "model_name": "FloatProgressModel",
          "model_module_version": "1.5.0",
          "state": {
            "_dom_classes": [],
            "_model_module": "@jupyter-widgets/controls",
            "_model_module_version": "1.5.0",
            "_model_name": "FloatProgressModel",
            "_view_count": null,
            "_view_module": "@jupyter-widgets/controls",
            "_view_module_version": "1.5.0",
            "_view_name": "ProgressView",
            "bar_style": "",
            "description": "",
            "description_tooltip": null,
            "layout": "IPY_MODEL_950f1e655fe446bcb6107156e93c48e0",
            "max": 3105520,
            "min": 0,
            "orientation": "horizontal",
            "style": "IPY_MODEL_5c75aee1cba24cee98c5fc967c68fb63",
            "value": 3105520
          }
        },
        "af3a0838a5dd4435917d5866a9f40df8": {
          "model_module": "@jupyter-widgets/controls",
          "model_name": "HTMLModel",
          "model_module_version": "1.5.0",
          "state": {
            "_dom_classes": [],
            "_model_module": "@jupyter-widgets/controls",
            "_model_module_version": "1.5.0",
            "_model_name": "HTMLModel",
            "_view_count": null,
            "_view_module": "@jupyter-widgets/controls",
            "_view_module_version": "1.5.0",
            "_view_name": "HTMLView",
            "description": "",
            "description_tooltip": null,
            "layout": "IPY_MODEL_40582d2b4713431e984cdb8bcd6ea01a",
            "placeholder": "​",
            "style": "IPY_MODEL_3bb1f34f858c4a6abba5a07947f20847",
            "value": " 3103622/3105520 [01:14&lt;00:00, 45481.06 examples/s]"
          }
        },
        "c26b11b57a274581a242dcec98880416": {
          "model_module": "@jupyter-widgets/base",
          "model_name": "LayoutModel",
          "model_module_version": "1.2.0",
          "state": {
            "_model_module": "@jupyter-widgets/base",
            "_model_module_version": "1.2.0",
            "_model_name": "LayoutModel",
            "_view_count": null,
            "_view_module": "@jupyter-widgets/base",
            "_view_module_version": "1.2.0",
            "_view_name": "LayoutView",
            "align_content": null,
            "align_items": null,
            "align_self": null,
            "border": null,
            "bottom": null,
            "display": null,
            "flex": null,
            "flex_flow": null,
            "grid_area": null,
            "grid_auto_columns": null,
            "grid_auto_flow": null,
            "grid_auto_rows": null,
            "grid_column": null,
            "grid_gap": null,
            "grid_row": null,
            "grid_template_areas": null,
            "grid_template_columns": null,
            "grid_template_rows": null,
            "height": null,
            "justify_content": null,
            "justify_items": null,
            "left": null,
            "margin": null,
            "max_height": null,
            "max_width": null,
            "min_height": null,
            "min_width": null,
            "object_fit": null,
            "object_position": null,
            "order": null,
            "overflow": null,
            "overflow_x": null,
            "overflow_y": null,
            "padding": null,
            "right": null,
            "top": null,
            "visibility": "hidden",
            "width": null
          }
        },
        "8b1cf0c992ab4fe29c828bb69fce5eeb": {
          "model_module": "@jupyter-widgets/base",
          "model_name": "LayoutModel",
          "model_module_version": "1.2.0",
          "state": {
            "_model_module": "@jupyter-widgets/base",
            "_model_module_version": "1.2.0",
            "_model_name": "LayoutModel",
            "_view_count": null,
            "_view_module": "@jupyter-widgets/base",
            "_view_module_version": "1.2.0",
            "_view_name": "LayoutView",
            "align_content": null,
            "align_items": null,
            "align_self": null,
            "border": null,
            "bottom": null,
            "display": null,
            "flex": null,
            "flex_flow": null,
            "grid_area": null,
            "grid_auto_columns": null,
            "grid_auto_flow": null,
            "grid_auto_rows": null,
            "grid_column": null,
            "grid_gap": null,
            "grid_row": null,
            "grid_template_areas": null,
            "grid_template_columns": null,
            "grid_template_rows": null,
            "height": null,
            "justify_content": null,
            "justify_items": null,
            "left": null,
            "margin": null,
            "max_height": null,
            "max_width": null,
            "min_height": null,
            "min_width": null,
            "object_fit": null,
            "object_position": null,
            "order": null,
            "overflow": null,
            "overflow_x": null,
            "overflow_y": null,
            "padding": null,
            "right": null,
            "top": null,
            "visibility": null,
            "width": null
          }
        },
        "3ad95f0c1d964f7bb6ecde859f40be00": {
          "model_module": "@jupyter-widgets/controls",
          "model_name": "DescriptionStyleModel",
          "model_module_version": "1.5.0",
          "state": {
            "_model_module": "@jupyter-widgets/controls",
            "_model_module_version": "1.5.0",
            "_model_name": "DescriptionStyleModel",
            "_view_count": null,
            "_view_module": "@jupyter-widgets/base",
            "_view_module_version": "1.2.0",
            "_view_name": "StyleView",
            "description_width": ""
          }
        },
        "950f1e655fe446bcb6107156e93c48e0": {
          "model_module": "@jupyter-widgets/base",
          "model_name": "LayoutModel",
          "model_module_version": "1.2.0",
          "state": {
            "_model_module": "@jupyter-widgets/base",
            "_model_module_version": "1.2.0",
            "_model_name": "LayoutModel",
            "_view_count": null,
            "_view_module": "@jupyter-widgets/base",
            "_view_module_version": "1.2.0",
            "_view_name": "LayoutView",
            "align_content": null,
            "align_items": null,
            "align_self": null,
            "border": null,
            "bottom": null,
            "display": null,
            "flex": null,
            "flex_flow": null,
            "grid_area": null,
            "grid_auto_columns": null,
            "grid_auto_flow": null,
            "grid_auto_rows": null,
            "grid_column": null,
            "grid_gap": null,
            "grid_row": null,
            "grid_template_areas": null,
            "grid_template_columns": null,
            "grid_template_rows": null,
            "height": null,
            "justify_content": null,
            "justify_items": null,
            "left": null,
            "margin": null,
            "max_height": null,
            "max_width": null,
            "min_height": null,
            "min_width": null,
            "object_fit": null,
            "object_position": null,
            "order": null,
            "overflow": null,
            "overflow_x": null,
            "overflow_y": null,
            "padding": null,
            "right": null,
            "top": null,
            "visibility": null,
            "width": null
          }
        },
        "5c75aee1cba24cee98c5fc967c68fb63": {
          "model_module": "@jupyter-widgets/controls",
          "model_name": "ProgressStyleModel",
          "model_module_version": "1.5.0",
          "state": {
            "_model_module": "@jupyter-widgets/controls",
            "_model_module_version": "1.5.0",
            "_model_name": "ProgressStyleModel",
            "_view_count": null,
            "_view_module": "@jupyter-widgets/base",
            "_view_module_version": "1.2.0",
            "_view_name": "StyleView",
            "bar_color": null,
            "description_width": ""
          }
        },
        "40582d2b4713431e984cdb8bcd6ea01a": {
          "model_module": "@jupyter-widgets/base",
          "model_name": "LayoutModel",
          "model_module_version": "1.2.0",
          "state": {
            "_model_module": "@jupyter-widgets/base",
            "_model_module_version": "1.2.0",
            "_model_name": "LayoutModel",
            "_view_count": null,
            "_view_module": "@jupyter-widgets/base",
            "_view_module_version": "1.2.0",
            "_view_name": "LayoutView",
            "align_content": null,
            "align_items": null,
            "align_self": null,
            "border": null,
            "bottom": null,
            "display": null,
            "flex": null,
            "flex_flow": null,
            "grid_area": null,
            "grid_auto_columns": null,
            "grid_auto_flow": null,
            "grid_auto_rows": null,
            "grid_column": null,
            "grid_gap": null,
            "grid_row": null,
            "grid_template_areas": null,
            "grid_template_columns": null,
            "grid_template_rows": null,
            "height": null,
            "justify_content": null,
            "justify_items": null,
            "left": null,
            "margin": null,
            "max_height": null,
            "max_width": null,
            "min_height": null,
            "min_width": null,
            "object_fit": null,
            "object_position": null,
            "order": null,
            "overflow": null,
            "overflow_x": null,
            "overflow_y": null,
            "padding": null,
            "right": null,
            "top": null,
            "visibility": null,
            "width": null
          }
        },
        "3bb1f34f858c4a6abba5a07947f20847": {
          "model_module": "@jupyter-widgets/controls",
          "model_name": "DescriptionStyleModel",
          "model_module_version": "1.5.0",
          "state": {
            "_model_module": "@jupyter-widgets/controls",
            "_model_module_version": "1.5.0",
            "_model_name": "DescriptionStyleModel",
            "_view_count": null,
            "_view_module": "@jupyter-widgets/base",
            "_view_module_version": "1.2.0",
            "_view_name": "StyleView",
            "description_width": ""
          }
        }
      }
    }
  },
  "cells": [
    {
      "cell_type": "markdown",
      "metadata": {
        "id": "view-in-github",
        "colab_type": "text"
      },
      "source": [
        "<a href=\"https://colab.research.google.com/github/pariyaab/Book_recommendation/blob/master/Book_Recommendation.ipynb\" target=\"_parent\"><img src=\"https://colab.research.google.com/assets/colab-badge.svg\" alt=\"Open In Colab\"/></a>"
      ]
    },
    {
      "cell_type": "markdown",
      "source": [
        "# Build a recommendation system with TensorFlow and Keras\n",
        "\n",
        "\n",
        "Here, we are going to build a practical book recommender service using [TensorFlow Recommenders](https://www.tensorflow.org/recommenders) and [Keras](https://keras.io/) and deploy it using [TensorFlow Serving](https://www.tensorflow.org/tfx/guide/serving).\n"
      ],
      "metadata": {
        "id": "LPGR6R_uB6jT"
      }
    },
    {
      "cell_type": "code",
      "source": [
        "!pip install -q tensorflow==2.0.0"
      ],
      "metadata": {
        "id": "AlNSKdZ6ke0X"
      },
      "execution_count": null,
      "outputs": []
    },
    {
      "cell_type": "code",
      "source": [
        "!pip install --upgrade -q tensorflow"
      ],
      "metadata": {
        "colab": {
          "base_uri": "https://localhost:8080/"
        },
        "id": "_lFjb_kAHF9H",
        "outputId": "f82196eb-9ebd-4e17-ebbc-dbf07fd9ad41"
      },
      "execution_count": 3,
      "outputs": [
        {
          "output_type": "stream",
          "name": "stdout",
          "text": [
            "\u001b[K     |████████████████████████████████| 578.0 MB 14 kB/s \n",
            "\u001b[K     |████████████████████████████████| 1.7 MB 52.4 MB/s \n",
            "\u001b[K     |████████████████████████████████| 5.9 MB 38.5 MB/s \n",
            "\u001b[K     |████████████████████████████████| 438 kB 47.4 MB/s \n",
            "\u001b[?25h"
          ]
        }
      ]
    },
    {
      "cell_type": "code",
      "execution_count": 4,
      "metadata": {
        "id": "xBrg5fUWBrT1",
        "colab": {
          "base_uri": "https://localhost:8080/"
        },
        "outputId": "bca6583c-5877-43f4-e6d8-09accd4649d0"
      },
      "outputs": [
        {
          "output_type": "stream",
          "name": "stdout",
          "text": [
            "\u001b[K     |████████████████████████████████| 4.7 MB 4.8 MB/s \n",
            "\u001b[K     |████████████████████████████████| 89 kB 3.4 MB/s \n",
            "\u001b[K     |████████████████████████████████| 10.4 MB 4.5 MB/s \n",
            "\u001b[?25h"
          ]
        }
      ],
      "source": [
        "!pip install -q --upgrade tensorflow-datasets\n",
        "!pip install -q tensorflow-recommenders\n",
        "!pip install -q scann"
      ]
    },
    {
      "cell_type": "code",
      "source": [
        "import pprint\n",
        "import numpy as np\n",
        "import tensorflow as tf\n",
        "import tensorflow_datasets as tfds\n",
        "import tensorflow_recommenders as tfrs"
      ],
      "metadata": {
        "id": "cwldGyjeQSXZ"
      },
      "execution_count": 5,
      "outputs": []
    },
    {
      "cell_type": "code",
      "source": [
        "# Download the data, save them as `tfrecord` files, load the `tfrecord` files\n",
        "# and create the `tf.data.Dataset` object containing the dataset.\n",
        "ratings_dataset, ratings_dataset_info = tfds.load(\n",
        "    name='amazon_us_reviews/Books_v1_02',\n",
        "    # Books_v1_02 dataset is not splitted into `train` and `test` sets by default.\n",
        "    # So TFDS has put it all into `train` split. We load it completely and split\n",
        "    # it manually.\n",
        "    split='train',\n",
        "    # `with_info=True` makes the `load` function return a `tfds.core.DatasetInfo`\n",
        "    # object containing dataset metadata like product_parent, review_body, review_date,\n",
        "    # review_id, etc.\n",
        "    with_info=True\n",
        ")\n",
        "\n",
        "# Calling the `tfds.load()` function in old versions of TFDS won't return an\n",
        "# instance of `tf.data.Dataset` type. So we can make sure about it.\n",
        "\n",
        "assert isinstance(ratings_dataset, tf.data.Dataset)\n",
        "\n",
        "print(\n",
        "    \"ratings_dataset size: %d\" % ratings_dataset.__len__()\n",
        ")\n"
      ],
      "metadata": {
        "colab": {
          "base_uri": "https://localhost:8080/",
          "height": 166,
          "referenced_widgets": [
            "2930247ffe0547748fc9e269e51e0602",
            "603bf51870204d7d93496c9c56064a42",
            "dcaa7a72b6e74ca599a751db474bcace",
            "f11f55f1e03545cca78d8e827169544b",
            "88419b930de5426c94aa3f71b38d98ed",
            "56b267366ccd449aa026dc4f751e4588",
            "585855e48996423ea1294df4928fcb33",
            "7368090407fb4d9cbd650d49d73e8d01",
            "96725560019244e091c33d25975f1d8f",
            "54ffdd52309b444ea4914f59fac84590",
            "ce4c660a0a3a482bb5dfd20eaca3d233",
            "61813d6e252041818902f583b246b461",
            "7b90f10116f4447b962995af80fb6bee",
            "571c7c3340184690a09de5bbddd9ebf9",
            "8f8f23d882e6402d98354fcbdcac5d2b",
            "2ae1c73a07284796abab494632cb9f13",
            "240970c44c714bf4aab33afb19299c61",
            "7ae9161014184c36924f223a37d76c88",
            "a7eb3823ea364309becd592738d3bc0f",
            "6415b7efbb8642618c882db72d96a2fd",
            "949d0e4f31db41d19b25a402bfbf7d45",
            "1ee38abf72f64181a27e6d6da5fe6f0a",
            "903f2bb4305f4dccb35296089f8027b9",
            "6e331d6280254dfdba17a435fc566c08",
            "0effffe0dd5a438392df212ac88329e0",
            "d9d02035218042f58ad0ffd9f028ad48",
            "81f0c847660d4545a9902286381cc346",
            "a3b95bab7f2d45c881d928f27979798b",
            "5f1b768d627d405fbd3e124337ce3953",
            "670fef94699e49ca82d17e7376792a9f",
            "b383184123e74fa1bd9ef37f63e902ca",
            "d03801eeb7464952a651d5ee62f1ecc6",
            "595e93de39c94b62855e6575f6c3bd51",
            "e2ad6a0a44b242f197e7423483d69244",
            "3acdaa223a0849269a6316de6a1cfba1",
            "b91125c6d927403aab84a14f3456cee3",
            "747f5042b8bf417f92224c19e90afba3",
            "93c82e5725424359a938d35eec1458d2",
            "6057f3a74da9472b9399ab2cd2e81093",
            "03f2c3cca8fd4ec7a1edda8083df0434",
            "5e0e40bf7be84468bf2731ac3ea88c98",
            "e49e6bc4cb604aa79f1bd6b25af59fd0",
            "1a9269d9f2304b11b20f30158537650f",
            "7bcda9a11f0a4111ab6281f74b9a1630",
            "6417853bf6cc4e4085abe267c067a0d4",
            "a3acd02cdb474703b3e0ffbd9a3ff8cd",
            "cb231eb4654e45b1b7e1eb1cafbdd5a8",
            "b6819a4067c8475aa3b00b8c22f93ba1",
            "88c21b8ea7e343959fa159c33e134940",
            "b77fcbebde61447490b1ae41baa4eb6e",
            "7868fe17c3484b56a3ccc4a297b0c0e4",
            "8a93c352f346403181ba249a325ee6ba",
            "548c2455cb96408f9bef462f635304e1",
            "23380dd95c064817892b215830a1901c",
            "0a27865f4e9844cfb53a07fdbe0a183f",
            "cce5d3cde3984b96a7da1ed9984298e6",
            "ff6c675748bb42bb9b4bb5089fac1d8a",
            "0b0171569bca4acbbc3353cf68b6da97",
            "af3a0838a5dd4435917d5866a9f40df8",
            "c26b11b57a274581a242dcec98880416",
            "8b1cf0c992ab4fe29c828bb69fce5eeb",
            "3ad95f0c1d964f7bb6ecde859f40be00",
            "950f1e655fe446bcb6107156e93c48e0",
            "5c75aee1cba24cee98c5fc967c68fb63",
            "40582d2b4713431e984cdb8bcd6ea01a",
            "3bb1f34f858c4a6abba5a07947f20847"
          ]
        },
        "id": "nokS0MZkDU62",
        "outputId": "bed016ce-a608-438d-cf91-bceab37fe7b6"
      },
      "execution_count": 6,
      "outputs": [
        {
          "output_type": "stream",
          "name": "stdout",
          "text": [
            "\u001b[1mDownloading and preparing dataset 1.24 GiB (download: 1.24 GiB, generated: Unknown size, total: 1.24 GiB) to /root/tensorflow_datasets/amazon_us_reviews/Books_v1_02/0.1.0...\u001b[0m\n"
          ]
        },
        {
          "output_type": "display_data",
          "data": {
            "text/plain": [
              "Dl Completed...: 0 url [00:00, ? url/s]"
            ],
            "application/vnd.jupyter.widget-view+json": {
              "version_major": 2,
              "version_minor": 0,
              "model_id": "2930247ffe0547748fc9e269e51e0602"
            }
          },
          "metadata": {}
        },
        {
          "output_type": "display_data",
          "data": {
            "text/plain": [
              "Dl Size...: 0 MiB [00:00, ? MiB/s]"
            ],
            "application/vnd.jupyter.widget-view+json": {
              "version_major": 2,
              "version_minor": 0,
              "model_id": "61813d6e252041818902f583b246b461"
            }
          },
          "metadata": {}
        },
        {
          "output_type": "display_data",
          "data": {
            "text/plain": [
              "Extraction completed...: 0 file [00:00, ? file/s]"
            ],
            "application/vnd.jupyter.widget-view+json": {
              "version_major": 2,
              "version_minor": 0,
              "model_id": "903f2bb4305f4dccb35296089f8027b9"
            }
          },
          "metadata": {}
        },
        {
          "output_type": "display_data",
          "data": {
            "text/plain": [
              "Generating splits...:   0%|          | 0/1 [00:00<?, ? splits/s]"
            ],
            "application/vnd.jupyter.widget-view+json": {
              "version_major": 2,
              "version_minor": 0,
              "model_id": "e2ad6a0a44b242f197e7423483d69244"
            }
          },
          "metadata": {}
        },
        {
          "output_type": "display_data",
          "data": {
            "text/plain": [
              "Generating train examples...:   0%|          | 0/3105520 [00:00<?, ? examples/s]"
            ],
            "application/vnd.jupyter.widget-view+json": {
              "version_major": 2,
              "version_minor": 0,
              "model_id": "6417853bf6cc4e4085abe267c067a0d4"
            }
          },
          "metadata": {}
        },
        {
          "output_type": "display_data",
          "data": {
            "text/plain": [
              "Shuffling /root/tensorflow_datasets/amazon_us_reviews/Books_v1_02/0.1.0.incompleteAFJYVV/amazon_us_reviews-tra…"
            ],
            "application/vnd.jupyter.widget-view+json": {
              "version_major": 2,
              "version_minor": 0,
              "model_id": "cce5d3cde3984b96a7da1ed9984298e6"
            }
          },
          "metadata": {}
        },
        {
          "output_type": "stream",
          "name": "stdout",
          "text": [
            "\u001b[1mDataset amazon_us_reviews downloaded and prepared to /root/tensorflow_datasets/amazon_us_reviews/Books_v1_02/0.1.0. Subsequent calls will reuse this data.\u001b[0m\n",
            "ratings_dataset size: 3105520\n"
          ]
        }
      ]
    },
    {
      "cell_type": "code",
      "source": [
        "list(ratings_dataset.take(1).as_numpy_iterator())[0]"
      ],
      "metadata": {
        "colab": {
          "base_uri": "https://localhost:8080/"
        },
        "id": "96xZPiRqXaT4",
        "outputId": "66f5df84-e603-472b-8c6c-43f3137ded7f"
      },
      "execution_count": 7,
      "outputs": [
        {
          "output_type": "execute_result",
          "data": {
            "text/plain": [
              "{'data': {'customer_id': b'51389465',\n",
              "  'helpful_votes': 1,\n",
              "  'marketplace': b'US',\n",
              "  'product_category': b'Books',\n",
              "  'product_id': b'1583141642',\n",
              "  'product_parent': b'591848411',\n",
              "  'product_title': b'Admission Of Love (Arabesque)',\n",
              "  'review_body': b\"What a great story this was. I'll admit I was skeptical before reading  this book because she is a new author. Thank you for proving me wrong. I  could not put it down! And the love scenes... I had to fan myself!!! If you  don't have this book,drop what you're doing and run out and buy it! This  story was funny and hearwarming!!\",\n",
              "  'review_date': b'2000-08-10',\n",
              "  'review_headline': b'Oh So HOT!!!!!!!!!!!!',\n",
              "  'review_id': b'R3MDBY5UZQXZST',\n",
              "  'star_rating': 5,\n",
              "  'total_votes': 1,\n",
              "  'verified_purchase': 1,\n",
              "  'vine': 1}}"
            ]
          },
          "metadata": {},
          "execution_count": 7
        }
      ]
    },
    {
      "cell_type": "code",
      "source": [
        "# Use `tfds.as_dataframe()` to convert `tf.data.Dataset` to `pandas.DataFrame`.\n",
        "# Add the `tfds.core.DatasetInfo` as second argument of `tfds.as_dataframe` to\n",
        "# load the full dataset in-memory, and can be very expensive to display. So use it only\n",
        "# with take() function.\n",
        "print(\n",
        "    tfds.as_dataframe(ratings_dataset.take(1), ratings_dataset_info)\n",
        ")\n"
      ],
      "metadata": {
        "colab": {
          "base_uri": "https://localhost:8080/"
        },
        "id": "_yfTCH_fTQK2",
        "outputId": "93c38cda-be41-4e80-db9b-e112cb4f4fba"
      },
      "execution_count": 8,
      "outputs": [
        {
          "output_type": "stream",
          "name": "stdout",
          "text": [
            "  data/customer_id  data/helpful_votes data/marketplace data/product_category  \\\n",
            "0      b'51389465'                   1            b'US'              b'Books'   \n",
            "\n",
            "  data/product_id data/product_parent                data/product_title  \\\n",
            "0   b'1583141642'        b'591848411'  b'Admission Of Love (Arabesque)'   \n",
            "\n",
            "                                    data/review_body data/review_date  \\\n",
            "0  b\"What a great story this was. I'll admit I wa...    b'2000-08-10'   \n",
            "\n",
            "       data/review_headline     data/review_id  data/star_rating  \\\n",
            "0  b'Oh So HOT!!!!!!!!!!!!'  b'R3MDBY5UZQXZST'                 5   \n",
            "\n",
            "   data/total_votes  data/verified_purchase  data/vine  \n",
            "0                 1                       1          1  \n"
          ]
        }
      ]
    },
    {
      "cell_type": "code",
      "source": [
        "## Feature selection\n",
        "ratings_dataset = ratings_dataset.map(\n",
        "    lambda rating: {\n",
        "        # `customer_id` is useful as a user identifier.\n",
        "        'customer_id': rating['data']['customer_id'],\n",
        "           # `product_id` is useful as a book identifier.\n",
        "        'product_id': rating['data']['product_id'],\n",
        "        # `product_title` is useful as a textual information about the book.\n",
        "        'product_title': rating['data']['product_title'],\n",
        "        # `helpful_votes` shows the user's level of interest to a book.\n",
        "        'helpful_votes': rating['data']['helpful_votes'],\n",
        "    }\n",
        ")"
      ],
      "metadata": {
        "id": "MWcXQNajUIvO"
      },
      "execution_count": null,
      "outputs": []
    },
    {
      "cell_type": "code",
      "source": [
        "list(ratings_dataset.take(2).as_numpy_iterator())"
      ],
      "metadata": {
        "colab": {
          "base_uri": "https://localhost:8080/"
        },
        "id": "tWa81ViCZ9xM",
        "outputId": "8b323baa-1b33-4986-8c83-3db3f08346a9"
      },
      "execution_count": 10,
      "outputs": [
        {
          "output_type": "execute_result",
          "data": {
            "text/plain": [
              "[{'customer_id': b'51389465',\n",
              "  'product_id': b'1583141642',\n",
              "  'product_title': b'Admission Of Love (Arabesque)',\n",
              "  'helpful_votes': 1},\n",
              " {'customer_id': b'23641112',\n",
              "  'product_id': b'0671620991',\n",
              "  'product_title': b\"Solve Your Child's Sleep Problems\",\n",
              "  'helpful_votes': 3}]"
            ]
          },
          "metadata": {},
          "execution_count": 10
        }
      ]
    },
    {
      "cell_type": "code",
      "source": [
        "## Split dataset randomly (80% for train and 20% for test)\n",
        "trainset_size = 0.8 * ratings_dataset.__len__().numpy()\n",
        "# In an industrial recommender system, this would most likely be done by time:\n",
        "# The data up to time T would be used to predict interactions after T.\n",
        "\n",
        "# set the global seed:\n",
        "tf.random.set_seed(42)\n",
        "# Shuffle the elements of the dataset randomly.\n",
        "ratings_dataset_shuffled = ratings_dataset.shuffle(\n",
        "    # the new dataset will be sampled from a buffer window of first `buffer_size`\n",
        "    # elements of the dataset\n",
        "    buffer_size=100_000,\n",
        "    # set the random seed that will be used to create the distribution.\n",
        "    seed=42,\n",
        "    # `list(dataset.as_numpy_iterator()` yields different result for each call\n",
        "    # Because reshuffle_each_iteration defaults to True.\n",
        "    reshuffle_each_iteration=False\n",
        ")\n",
        "ratings_trainset = ratings_dataset_shuffled.take(trainset_size)\n",
        "ratings_testset = ratings_dataset_shuffled.skip(trainset_size)\n",
        "\n",
        "print(\n",
        "    \"ratings_trainset size: %d\" % ratings_trainset.__len__()\n",
        ")\n",
        "print(\n",
        "    \"ratings_testset size: %d\" % ratings_testset.__len__()\n",
        ")"
      ],
      "metadata": {
        "colab": {
          "base_uri": "https://localhost:8080/"
        },
        "id": "oLv-GlRuajmk",
        "outputId": "a1f916ce-2daa-40e1-8f88-2675acd6df29"
      },
      "execution_count": 11,
      "outputs": [
        {
          "output_type": "stream",
          "name": "stdout",
          "text": [
            "ratings_trainset size: 2484416\n",
            "ratings_testset size: 621104\n"
          ]
        }
      ]
    },
    {
      "cell_type": "markdown",
      "source": [
        "## Preprocess raw features and make embeddings with Keras preprocessing layers\n",
        "\n",
        "Raw features are usually not be immediately usable in a machine learning model and should be preprocessed in the first place.\n",
        "- **Numerical features** (ratings, prices, timestamps, etc) can be far away in terms of scale and need to be `normalized` so that their values lie in a small interval around 0.\n",
        "- **Categorical features** (ids, usernames/emails, titles, etc) are usually string features and have to be translated into `embedding vectors` (numerical feature representations) that are adjusted during training the model.\n",
        "- **Text features** (descriptions, comments, etc) need to be at first, `tokenized` (split into smaller parts such as individual words known as word pieces) and then translated into embeddings.\n",
        "\n",
        "[Keras preprocessing layers](https://keras.io/guides/preprocessing_layers/) let us build `end-to-end` portable models that accept raw features (raw images or raw structured data) as input; models that handle feature normalization or feature value indexing on their own."
      ],
      "metadata": {
        "id": "EIqKR9Hra2yd"
      }
    },
    {
      "cell_type": "code",
      "source": [
        "for item in ratings_trainset.take(5).as_numpy_iterator():\n",
        "  print(item)"
      ],
      "metadata": {
        "id": "tiD_KH8Ue_3U",
        "colab": {
          "base_uri": "https://localhost:8080/"
        },
        "outputId": "5249dc63-ba84-41bd-fb5a-c534c42859d1"
      },
      "execution_count": 12,
      "outputs": [
        {
          "output_type": "stream",
          "name": "stdout",
          "text": [
            "{'customer_id': b'52997076', 'product_id': b'0373870574', 'product_title': b'A Family for Andi (Love Inspired #57)', 'helpful_votes': 2}\n",
            "{'customer_id': b'50796401', 'product_id': b'0375503641', 'product_title': b'Shutterbabe:  Adventures in Love and War', 'helpful_votes': 5}\n",
            "{'customer_id': b'49586917', 'product_id': b'0316666343', 'product_title': b'The Lovely Bones', 'helpful_votes': 5}\n",
            "{'customer_id': b'33219914', 'product_id': b'0972995404', 'product_title': b'American Bachelor', 'helpful_votes': 1}\n",
            "{'customer_id': b'33678582', 'product_id': b'0140177396', 'product_title': b'Of Mice and Men', 'helpful_votes': 0}\n"
          ]
        }
      ]
    },
    {
      "cell_type": "markdown",
      "source": [
        "### Normalize numerical features\n",
        "`helpful_votes` values are for rating use to books and it is numerical features and it can be normalized in a small interval around 0. Standardization (`Z-score Normalization`) is a common preprocessing transformation that rescales features to normalize their range by subtracting the feature's `mean` and dividing by its `standard deviation`.\n"
      ],
      "metadata": {
        "id": "x8zaodrafYIN"
      }
    },
    {
      "cell_type": "code",
      "source": [
        "helpful_votes_layer = tf.keras.layers.experimental.preprocessing.Normalization(axis=None)\n",
        "helpful_votes_layer.adapt(ratings_trainset.map( \n",
        "    lambda rating: rating['helpful_votes']\n",
        "    )\n",
        ")"
      ],
      "metadata": {
        "id": "1NBnEJI3bC_M"
      },
      "execution_count": null,
      "outputs": []
    },
    {
      "cell_type": "code",
      "source": [
        "for rating in ratings_trainset.take(3).as_numpy_iterator():\n",
        "  print(\n",
        "      f\"Raw helpful_votes: {rating['helpful_votes']} ->\",\n",
        "      f\"Normalized timestamp: {helpful_votes_layer(rating['helpful_votes'])}\"\n",
        "  )"
      ],
      "metadata": {
        "colab": {
          "base_uri": "https://localhost:8080/"
        },
        "id": "pTVbmwi1sX-c",
        "outputId": "64fbe510-5078-4b6d-9cc8-d6891b15f833"
      },
      "execution_count": 14,
      "outputs": [
        {
          "output_type": "stream",
          "name": "stdout",
          "text": [
            "Raw helpful_votes: 2 -> Normalized timestamp: -0.2795896530151367\n",
            "Raw helpful_votes: 5 -> Normalized timestamp: -0.16532482206821442\n",
            "Raw helpful_votes: 5 -> Normalized timestamp: -0.16532482206821442\n"
          ]
        }
      ]
    },
    {
      "cell_type": "markdown",
      "source": [
        "### Turning categorical features into embeddings\n",
        "\n",
        "A categorical feature is a feature that does not express a continuous quantity, but rather takes on one of a set of fixed values. Most deep learning models express these feature by turning them into high-dimensional embedding vectors which will be adjusted during model training.\n",
        "\n",
        "Here we represent each customers and each book by an embedding vector. Initially, these embeddings will take on random values, but during training, we will adjust them so that embeddings of customers and the books they watch end up closer together.\n",
        "\n",
        "Taking raw categorical features and turning them into embeddings is normally a two-step process:\n",
        "\n",
        "\n",
        "1.   Build a mapping (called a `\"vocabulary\"`) that maps each raw values.\n",
        "2.   Turn these integers into embedding vectors.\n",
        "\n"
      ],
      "metadata": {
        "id": "tgMl78pqszmO"
      }
    },
    {
      "cell_type": "code",
      "source": [
        "# Make a Keras StringLookup layer as the mapping (lookup)\n",
        "book_id_lookup_layer = tf.keras.layers.experimental.preprocessing.StringLookup(mask_token=None)\n",
        "\n",
        "# StringLookup layer is a non-trainable layer and its state (the vocabulary)\n",
        "# must be constructed and set before training in a step called \"adaptation\".\n",
        "book_id_lookup_layer.adapt(\n",
        "    ratings_trainset.map(\n",
        "        lambda x: x['product_id']\n",
        "    )\n",
        ")\n",
        "\n",
        "print(\n",
        "    f\"Vocabulary[:10] -> {book_id_lookup_layer.get_vocabulary()[:10]}\"\n",
        "    # Vocabulary: ['[UNK]', '405', '655', '13', ...]\n",
        "    # The vocabulary includes one (or more!) unknown (or \"out of vocabulary\", OOV)\n",
        "    # tokens. So the layer can handle categorical values that are not in the\n",
        "    # vocabulary and the model can continue to learn about and make\n",
        "    # recommendations even using features that have not been seen during\n",
        "    # vocabulary construction.\n",
        ")\n",
        "\n",
        "print(\n",
        "    \"Mapped integer for book ids: ['-2', '13', '655', 'xxx']\\n\",\n",
        "    book_id_lookup_layer(\n",
        "        ['-2', '13', '655', 'xxx']\n",
        "    )\n",
        ")\n",
        "\n",
        "book_id_embedding_dim = 32\n",
        "# The larger it is, the higher the capacity of the model, but the slower it is\n",
        "# to fit and serve and more prone to overfitting.\n",
        "\n",
        "book_id_embedding_layer = tf.keras.layers.Embedding(\n",
        "    # Size of the vocabulary\n",
        "    input_dim=book_id_lookup_layer.vocabulary_size(),\n",
        "    # Dimension of the dense embedding\n",
        "    output_dim=book_id_embedding_dim\n",
        ")\n",
        " \n",
        "# A model that takes raw string feature values (product_id) in and yields embeddings\n",
        "book_id_model = tf.keras.Sequential(\n",
        "    [\n",
        "        book_id_lookup_layer,\n",
        "        book_id_embedding_layer\n",
        "    ]\n",
        ")\n",
        " \n",
        "print(\"Embeddings for bookd ids: ['-2', '13', '655', 'xxx']\\n\",book_id_model(['-2', '13', '655', 'xxx']))\n",
        "\n",
        "\n",
        "customer_id_lookup_layer =  tf.keras.layers.experimental.preprocessing.StringLookup(mask_token=None)\n",
        "customer_id_lookup_layer.adapt(\n",
        "    ratings_trainset.map(\n",
        "        lambda x: x['customer_id']\n",
        "    )\n",
        ")\n",
        "\n",
        "# Same as user_id_embedding_dim to be able to measure the similarity\n",
        "customer_id_embedding_dim = 32\n",
        "\n",
        "customer_id_embedding_layer = tf.keras.layers.Embedding(\n",
        "    input_dim=customer_id_lookup_layer.vocabulary_size(),\n",
        "    output_dim=customer_id_embedding_dim\n",
        ")\n",
        " \n",
        "customer_id_model = tf.keras.Sequential(\n",
        "    [\n",
        "        customer_id_lookup_layer,\n",
        "        customer_id_embedding_layer\n",
        "    ]\n",
        ")\n",
        "\n",
        "print(f\"Embedding for the customer 52997076:\\n {customer_id_model('52997076')}\")"
      ],
      "metadata": {
        "colab": {
          "base_uri": "https://localhost:8080/"
        },
        "id": "VB3pj5iCszJD",
        "outputId": "e3f44956-27c6-44ef-8bab-80af05fcd22a"
      },
      "execution_count": 15,
      "outputs": [
        {
          "output_type": "stream",
          "name": "stderr",
          "text": [
            "WARNING:tensorflow:Layers in a Sequential model should only have a single input tensor. Received: inputs=['-2', '13', '655', 'xxx']. Consider rewriting this model with the Functional API.\n"
          ]
        },
        {
          "output_type": "stream",
          "name": "stdout",
          "text": [
            "Vocabulary[:10] -> ['[UNK]', '043935806X', '0439139597', '0525947647', '0895260174', '0385504209', '0590353403', '0439784549', '0316666343', '1400050308']\n",
            "Mapped integer for book ids: ['-2', '13', '655', 'xxx']\n",
            " tf.Tensor([0 0 0 0], shape=(4,), dtype=int64)\n"
          ]
        },
        {
          "output_type": "stream",
          "name": "stderr",
          "text": [
            "WARNING:tensorflow:AutoGraph could not transform <function <lambda> at 0x7f115da1fcb0> and will run it as-is.\n",
            "Please report this to the TensorFlow team. When filing the bug, set the verbosity to 10 (on Linux, `export AUTOGRAPH_VERBOSITY=10`) and attach the full output.\n",
            "Cause: module 'gast' has no attribute 'Constant'\n",
            "To silence this warning, decorate the function with @tf.autograph.experimental.do_not_convert\n"
          ]
        },
        {
          "output_type": "stream",
          "name": "stdout",
          "text": [
            "Embeddings for bookd ids: ['-2', '13', '655', 'xxx']\n",
            " tf.Tensor(\n",
            "[[-1.9437671e-03 -3.8034208e-03 -1.0673761e-02 -8.8535249e-05\n",
            "  -2.5959326e-02  9.6588843e-03  1.9897494e-02  2.9990140e-02\n",
            "   7.4738637e-03 -4.7060825e-02  1.8053088e-02  3.6847744e-02\n",
            "  -1.5759788e-02  3.4050200e-02 -1.2041248e-02 -2.0433677e-02\n",
            "  -2.9981030e-02 -3.7906587e-02  3.9568316e-02 -2.2324467e-02\n",
            "  -4.4263553e-02 -3.3800088e-02 -3.2531559e-02 -4.6921935e-02\n",
            "   1.5477095e-02  2.5458846e-02 -7.1270950e-03 -2.9826880e-02\n",
            "   1.9904528e-02 -2.9718652e-03  7.6395869e-03 -1.8093131e-02]\n",
            " [-1.9437671e-03 -3.8034208e-03 -1.0673761e-02 -8.8535249e-05\n",
            "  -2.5959326e-02  9.6588843e-03  1.9897494e-02  2.9990140e-02\n",
            "   7.4738637e-03 -4.7060825e-02  1.8053088e-02  3.6847744e-02\n",
            "  -1.5759788e-02  3.4050200e-02 -1.2041248e-02 -2.0433677e-02\n",
            "  -2.9981030e-02 -3.7906587e-02  3.9568316e-02 -2.2324467e-02\n",
            "  -4.4263553e-02 -3.3800088e-02 -3.2531559e-02 -4.6921935e-02\n",
            "   1.5477095e-02  2.5458846e-02 -7.1270950e-03 -2.9826880e-02\n",
            "   1.9904528e-02 -2.9718652e-03  7.6395869e-03 -1.8093131e-02]\n",
            " [-1.9437671e-03 -3.8034208e-03 -1.0673761e-02 -8.8535249e-05\n",
            "  -2.5959326e-02  9.6588843e-03  1.9897494e-02  2.9990140e-02\n",
            "   7.4738637e-03 -4.7060825e-02  1.8053088e-02  3.6847744e-02\n",
            "  -1.5759788e-02  3.4050200e-02 -1.2041248e-02 -2.0433677e-02\n",
            "  -2.9981030e-02 -3.7906587e-02  3.9568316e-02 -2.2324467e-02\n",
            "  -4.4263553e-02 -3.3800088e-02 -3.2531559e-02 -4.6921935e-02\n",
            "   1.5477095e-02  2.5458846e-02 -7.1270950e-03 -2.9826880e-02\n",
            "   1.9904528e-02 -2.9718652e-03  7.6395869e-03 -1.8093131e-02]\n",
            " [-1.9437671e-03 -3.8034208e-03 -1.0673761e-02 -8.8535249e-05\n",
            "  -2.5959326e-02  9.6588843e-03  1.9897494e-02  2.9990140e-02\n",
            "   7.4738637e-03 -4.7060825e-02  1.8053088e-02  3.6847744e-02\n",
            "  -1.5759788e-02  3.4050200e-02 -1.2041248e-02 -2.0433677e-02\n",
            "  -2.9981030e-02 -3.7906587e-02  3.9568316e-02 -2.2324467e-02\n",
            "  -4.4263553e-02 -3.3800088e-02 -3.2531559e-02 -4.6921935e-02\n",
            "   1.5477095e-02  2.5458846e-02 -7.1270950e-03 -2.9826880e-02\n",
            "   1.9904528e-02 -2.9718652e-03  7.6395869e-03 -1.8093131e-02]], shape=(4, 32), dtype=float32)\n",
            "WARNING: AutoGraph could not transform <function <lambda> at 0x7f115da1fcb0> and will run it as-is.\n",
            "Please report this to the TensorFlow team. When filing the bug, set the verbosity to 10 (on Linux, `export AUTOGRAPH_VERBOSITY=10`) and attach the full output.\n",
            "Cause: module 'gast' has no attribute 'Constant'\n",
            "To silence this warning, decorate the function with @tf.autograph.experimental.do_not_convert\n"
          ]
        },
        {
          "output_type": "stream",
          "name": "stderr",
          "text": [
            "WARNING:tensorflow:AutoGraph could not transform <function PreprocessingLayer.make_adapt_function.<locals>.adapt_step at 0x7f115da1f320> and will run it as-is.\n",
            "Please report this to the TensorFlow team. When filing the bug, set the verbosity to 10 (on Linux, `export AUTOGRAPH_VERBOSITY=10`) and attach the full output.\n",
            "Cause: 'arguments' object has no attribute 'posonlyargs'\n",
            "To silence this warning, decorate the function with @tf.autograph.experimental.do_not_convert\n"
          ]
        },
        {
          "output_type": "stream",
          "name": "stdout",
          "text": [
            "WARNING: AutoGraph could not transform <function PreprocessingLayer.make_adapt_function.<locals>.adapt_step at 0x7f115da1f320> and will run it as-is.\n",
            "Please report this to the TensorFlow team. When filing the bug, set the verbosity to 10 (on Linux, `export AUTOGRAPH_VERBOSITY=10`) and attach the full output.\n",
            "Cause: 'arguments' object has no attribute 'posonlyargs'\n",
            "To silence this warning, decorate the function with @tf.autograph.experimental.do_not_convert\n"
          ]
        },
        {
          "output_type": "stream",
          "name": "stderr",
          "text": [
            "WARNING:tensorflow:Layers in a Sequential model should only have a single input tensor. Received: inputs=52997076. Consider rewriting this model with the Functional API.\n"
          ]
        },
        {
          "output_type": "stream",
          "name": "stdout",
          "text": [
            "Embedding for the customer 52997076:\n",
            " [ 0.00067756  0.03443528 -0.04296687 -0.03931494  0.02974707 -0.00172361\n",
            "  0.01440866 -0.0425303  -0.00610284 -0.00090276  0.01798202  0.03616593\n",
            " -0.03439077  0.02476938  0.04241036 -0.00179129 -0.01331911 -0.04734996\n",
            "  0.01387544  0.03550395  0.02973064 -0.02506577 -0.01204579 -0.03935288\n",
            " -0.00042962  0.00256138  0.01926417  0.00531001 -0.01102423  0.01505114\n",
            "  0.02455181 -0.03485101]\n"
          ]
        }
      ]
    },
    {
      "cell_type": "markdown",
      "source": [
        "### Tokenize textual features and translate them into embeddings\n",
        "Candidates textual description and users' reviews can be useful especially in a `cold-start` or `long-tail` scenario.\n",
        "\n",
        "While the Book dataset does not give us rich textual features, we can still use book titles. This may help us capture the fact that books with very similar titles are likely to belong to the same categories."
      ],
      "metadata": {
        "id": "GNLb9wpXT6qz"
      }
    },
    {
      "cell_type": "code",
      "source": [
        "# Keras TextVectorization layer transforms the raw texts into `word pieces` and\n",
        "# map these pieces into tokens.\n",
        "book_title_vectorization_layer = tf.keras.layers.experimental.preprocessing.TextVectorization()\n",
        "book_title_vectorization_layer.adapt(\n",
        "    ratings_trainset.map(\n",
        "        lambda rating: rating['product_title']\n",
        "    )\n",
        ")\n",
        "\n",
        "# Verify that the tokenization is done correctly\n",
        "print(\n",
        "    \"Vocabulary[40:50] -> \",\n",
        "    book_title_vectorization_layer.get_vocabulary()[40:50]\n",
        ")\n",
        "\n",
        "print(\n",
        "    \"Vectorized title for 'Shutterbabe:  Adventures in Love and War'\\n\",\n",
        "    book_title_vectorization_layer('Shutterbabe:  Adventures in Love and War')\n",
        ")\n",
        "\n",
        "book_title_embedding_dim = 32\n",
        "book_title_embedding_layer = tf.keras.layers.Embedding(\n",
        "    input_dim=len(book_title_vectorization_layer.get_vocabulary()),\n",
        "    output_dim=book_title_embedding_dim,\n",
        "    # Whether or not the input value 0 is a MASK token.\n",
        "    # Keras TextVectorization layer builds the vocabulary with MASK token.\n",
        "    mask_zero=True\n",
        ")\n",
        "\n",
        "book_title_model = tf.keras.Sequential(\n",
        "    [\n",
        "       book_title_vectorization_layer,\n",
        "       book_title_embedding_layer,\n",
        "       # each title contains multiple words, so we will get multiple embeddings\n",
        "       # for each title that should be compressed into a single embedding for\n",
        "       # the text. Models like RNNs, Transformers or Attentions are useful here.\n",
        "       # However, averaging all the words' embeddings together is also a good\n",
        "       # starting point.\n",
        "       tf.keras.layers.GlobalAveragePooling1D()\n",
        "    ]\n",
        ")"
      ],
      "metadata": {
        "id": "-vlUWrHHT5ko"
      },
      "execution_count": null,
      "outputs": []
    },
    {
      "cell_type": "markdown",
      "source": [
        "## Query and Candidate representation\n",
        "We are building a [two-tower retrieval model](https://research.google/pubs/pub48840/), a model including two seperate models (towers) one for transforming query raw features to query representation (query tower) and one another for transforming candidate raw features to the same dimensionality candidate representation.\n",
        "\n",
        "The output tensors of the two models will multiply together (inner product) to give a query-candidate `affinity score` (similarity measure). Higher scores express a better match between the candidate and the query."
      ],
      "metadata": {
        "id": "0OH-yka2i8CC"
      }
    },
    {
      "cell_type": "code",
      "source": [
        "# we want to have complex model for candidate model\n",
        "class CandidateModel(tfrs.models.Model):\n",
        "\n",
        "    def __init__(self, book_id_model, book_title_model):\n",
        "      super().__init__()\n",
        "      self.book_id_model: tf.keras.Model = book_id_model\n",
        "      self.book_title_model: tf.keras.Model = book_title_model\n",
        "\n",
        "    def get_model(self):\n",
        "        return tf.concat([\n",
        "            self.book_id_model,\n",
        "            self.book_title_model],axis=1)\n",
        "\n",
        "# Query tower\n",
        "query_model = customer_id_model\n",
        " \n",
        "# Candidate tower\n",
        "\n",
        "# c = CandidateModel(book_id_model,book_title_model)\n",
        "# candidate_model = c.get_model() \n",
        "candidate_model = book_id_model \n",
        "\n",
        "print(candidate_model)\n",
        "print(query_model)"
      ],
      "metadata": {
        "id": "KqELCqUZi-5z",
        "colab": {
          "base_uri": "https://localhost:8080/"
        },
        "outputId": "61c86722-ce66-4874-ff21-9621cc0bb74e"
      },
      "execution_count": 17,
      "outputs": [
        {
          "output_type": "stream",
          "name": "stdout",
          "text": [
            "<keras.engine.sequential.Sequential object at 0x7f115dbb1c50>\n",
            "<keras.engine.sequential.Sequential object at 0x7f115da12bd0>\n"
          ]
        }
      ]
    },
    {
      "cell_type": "markdown",
      "source": [
        "## Build the Retrieval (Candidate Generation) task\n",
        "\n",
        "It is about selecting an initial set of hundreds of candidates from all possible candidates. The main objective of this model is to efficiently weed out all candidates that the user is not interested in. Because the retrieval model may be dealing with millions of candidates, **it has to be computationally efficient**.\n",
        "\n",
        "A retrieval system is a model that predicts a set of mbooksovies from the catalogue that the user is likely to watch. So the train set should be expressesing which book the users watched, and which they did not. for example:\n",
        "```\n",
        "[\n",
        "  (('user1', 'With I When 20 Know'), POSITIVE),\n",
        "  (('user1', 'Mar Man, Women Venus'), NEGATIVE),\n",
        "  ...\n",
        "]\n",
        "```\n"
      ],
      "metadata": {
        "id": "IPVhhltGjBy8"
      }
    },
    {
      "cell_type": "code",
      "source": [
        "# We don't need rating field for the retrieval task\n",
        "retrieval_ratings_trainset = ratings_trainset.map(\n",
        "    lambda rating: {\n",
        "        'customer_id': rating['customer_id'],\n",
        "        'product_id': rating['product_id'],\n",
        "    }\n",
        ")\n",
        " \n",
        "retrieval_ratings_testset = ratings_testset.map(\n",
        "    lambda rating: {\n",
        "        'customer_id': rating['customer_id'],\n",
        "        'product_id': rating['product_id'],\n",
        "    }\n",
        ")"
      ],
      "metadata": {
        "id": "pLD6EFU3jY3e"
      },
      "execution_count": null,
      "outputs": []
    },
    {
      "cell_type": "code",
      "source": [
        "# We are using just `book (product)_id` feature for making the candidates representation\n",
        "candidates_corpus_dataset = ratings_dataset.map(\n",
        "    lambda book: book['product_id']\n",
        ")"
      ],
      "metadata": {
        "id": "hdOWJHv0kzTN"
      },
      "execution_count": null,
      "outputs": []
    },
    {
      "cell_type": "markdown",
      "source": [
        "### Fit the model using standard Keras routine"
      ],
      "metadata": {
        "id": "QoUUk_aMnLLH"
      }
    },
    {
      "cell_type": "code",
      "source": [
        "factorized_top_k_metrics = tfrs.metrics.FactorizedTopK(\n",
        "    # dataset of candidate embeddings from which candidates should be retrieved\n",
        "    candidates=candidates_corpus_dataset.batch(1200).map(\n",
        "        candidate_model\n",
        "    )\n",
        ")\n",
        "\n",
        "retrieval_task_layer = tfrs.tasks.Retrieval(\n",
        "    metrics=factorized_top_k_metrics\n",
        ")\n",
        "\n",
        "# The task computes the metrics and return the in-batch softmax loss.\n",
        "# Because the metrics range over the entire candidate set, they are usually much\n",
        "# slower to compute. Consider setting `compute_metrics=False` in Retrieval\n",
        "# costructor during training to save the time in computing the metrics."
      ],
      "metadata": {
        "id": "yi64qz0foPHe"
      },
      "execution_count": 20,
      "outputs": []
    },
    {
      "cell_type": "markdown",
      "source": [
        "### Create the training loop\n",
        "To create an appropriate training loop and train the models we can extend the class `tf.keras.Model` and override the `train_step` and `test_step` functions. [See how](https://keras.io/guides/customizing_what_happens_in_fit/).\n",
        "\n",
        "However, to keep the focus on modelling and abstract away some of the boilerplate, TFRS exposes `tfrs.models.Model` base class which allows us to compute both training and test losses using the same method. All we need to do is to set up the components in the `__init__` method, and implement the `compute_loss` method, taking in the raw features and returning a loss value. The base model will then take care of creating the appropriate training loop to fit the model."
      ],
      "metadata": {
        "id": "uK4RfLzbmPB2"
      }
    },
    {
      "cell_type": "code",
      "source": [
        "class RetrievalModel(tfrs.models.Model):\n",
        "  \"\"\"Amazon_us_review_Books candidate generation model\"\"\"\n",
        " \n",
        "  def __init__(self, query_model, candidate_model, retrieval_task_layer):\n",
        "    super().__init__()\n",
        "    self.query_model: tf.keras.Model = query_model\n",
        "    self.candidate_model: tf.keras.Model = candidate_model\n",
        "    self.retrieval_task_layer: tf.keras.layers.Layer = retrieval_task_layer\n",
        " \n",
        " #def compute_loss(self, features: Dict[Text, tf.Tensor], training=False):\n",
        "  def compute_loss(self, features, training=False) -> tf.Tensor:\n",
        "    query_embeddings = self.query_model(features['customer_id'])\n",
        "    positive_candidate_embeddings = self.candidate_model(features[\"product_id\"])\n",
        "\n",
        "    loss = self.retrieval_task_layer(\n",
        "        query_embeddings,\n",
        "        positive_candidate_embeddings\n",
        "        # ,compute_metrics=not training  # To speed up training\n",
        "    )\n",
        "    return loss"
      ],
      "metadata": {
        "id": "1UoI-5ewmwvD"
      },
      "execution_count": 21,
      "outputs": []
    },
    {
      "cell_type": "code",
      "source": [
        "amazon_book_retrieval_model = RetrievalModel(\n",
        "    query_model,\n",
        "    candidate_model,\n",
        "    retrieval_task_layer\n",
        ")\n",
        "\n",
        "optimizer_step_size = 0.1\n",
        "amazon_book_retrieval_model.compile(\n",
        "    optimizer=tf.keras.optimizers.Adagrad(\n",
        "        learning_rate=optimizer_step_size\n",
        "    )\n",
        ")"
      ],
      "metadata": {
        "id": "sl3exIVhoHJT"
      },
      "execution_count": 22,
      "outputs": []
    },
    {
      "cell_type": "code",
      "source": [
        "# Shuffle the training data for each epoch.\n",
        "# Batch and cache both the training and evaluation data.\n",
        "# `cache()` method caches the elements in the dataset in memory. To caches data\n",
        "# in a file pass the `filename` argument to the method: cache(filename='')\n",
        "# The first time the dataset is iterated over, its elements will be cached\n",
        "# either in the specified file or in memory. Subsequent iterations will use the\n",
        "# cached data.\n",
        "retrieval_cached_ratings_trainset =  retrieval_ratings_trainset.shuffle(3_105_520).batch(128192).cache()\n",
        "retrieval_cached_ratings_testset =  retrieval_ratings_testset.batch(1281926).cache()\n",
        " \n",
        "num_epochs = 10 \n",
        "history = amazon_book_retrieval_model.fit(\n",
        "    retrieval_cached_ratings_trainset,\n",
        "    validation_data=retrieval_cached_ratings_testset,\n",
        "    validation_freq=1,\n",
        "    epochs=num_epochs\n",
        ")"
      ],
      "metadata": {
        "id": "U3xREghA28p-"
      },
      "execution_count": null,
      "outputs": []
    },
    {
      "cell_type": "code",
      "source": [
        "scann_layer = tfrs.layers.factorized_top_k.ScaNN(\n",
        "    amazon_book_retrieval_model.query_model\n",
        ")\n",
        "\n",
        "scann_layer.index(\n",
        "    candidates_corpus_dataset.batch(100).map(\n",
        "        amazon_book_retrieval_model.candidate_model\n",
        "    ),\n",
        "    candidates_corpus_dataset\n",
        ")\n",
        "\n",
        "user_id = '42'\n",
        "afinity_scores, book_ids = scann_layer(\n",
        "    tf.constant([user_id])\n",
        ")\n",
        "\n",
        "print(f\"Recommendations for user {user_id} using ScaNN: {book_ids[0, :5]}\")"
      ],
      "metadata": {
        "id": "6ugQT9J_n9LN"
      },
      "execution_count": null,
      "outputs": []
    },
    {
      "cell_type": "code",
      "source": [
        "class RankingModel(tfrs.models.Model):\n",
        "  \"\"\"Book dataset ranking model\"\"\"\n",
        "\n",
        "  def __init__(self, query_model, candidate_model):\n",
        "    super().__init__()\n",
        "\n",
        "    self.query_model: tf.keras.Model = query_model\n",
        "    self.candidate_model: tf.keras.Model = candidate_model\n",
        "    self.rating_model = tf.keras.Sequential(\n",
        "        [\n",
        "            tf.keras.layers.Dense(256, activation='relu'),\n",
        "            tf.keras.layers.Dense(64, activation='relu'),\n",
        "            tf.keras.layers.Dense(1)\n",
        "        ]\n",
        "    )\n",
        "    self.ranking_task_layer: tf.keras.layers.Layer = tfrs.tasks.Ranking(\n",
        "        loss=tf.keras.losses.MeanSquaredError(),\n",
        "        metrics=[\n",
        "            tf.keras.metrics.RootMeanSquaredError()\n",
        "        ]\n",
        "    )\n",
        "\n",
        "\n",
        "  def compute_loss(self, features, training=False) -> tf.Tensor:\n",
        "    query_embeddings = self.query_model(features['customer_id'])\n",
        "    candidate_embeddings = self.candidate_model(features[\"product_id\"])\n",
        "    rating_predictions = self.rating_model(\n",
        "        tf.concat(\n",
        "            [query_embeddings, candidate_embeddings],\n",
        "            axis=1\n",
        "        )\n",
        "        # We could use `tf.keras.layers.Concatenate(axis=1)([x, y])`\n",
        "    )\n",
        "\n",
        "    loss = self.ranking_task_layer(\n",
        "        predictions=rating_predictions,\n",
        "        labels=features[\"user_rating\"]\n",
        "    )\n",
        "    return loss"
      ],
      "metadata": {
        "id": "eNt9-Rws4Nu-"
      },
      "execution_count": null,
      "outputs": []
    },
    {
      "cell_type": "code",
      "source": [
        "books_ranking_model = RankingModel(query_model, candidate_model)\n",
        "\n",
        "optimizer_step_size = 0.1\n",
        "books_ranking_model.compile(\n",
        "    optimizer=tf.keras.optimizers.Adagrad(\n",
        "        learning_rate=optimizer_step_size\n",
        "    )\n",
        ")"
      ],
      "metadata": {
        "id": "xYL9yKLjWWrP"
      },
      "execution_count": null,
      "outputs": []
    },
    {
      "cell_type": "code",
      "source": [
        "ranking_ratings_trainset = ratings_trainset.shuffle(100_000).batch(8192).cache()\n",
        "ranking_ratings_testset = ratings_testset.batch(4096).cache()\n",
        "\n",
        "history = books_ranking_model.fit(\n",
        "    ranking_ratings_trainset,\n",
        "    validation_data=ranking_ratings_testset,\n",
        "    validation_freq=1,\n",
        "    epochs=5\n",
        ")"
      ],
      "metadata": {
        "id": "6hgSZnKHWakd"
      },
      "execution_count": null,
      "outputs": []
    }
  ]
}